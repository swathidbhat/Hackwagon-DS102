{
 "cells": [
  {
   "cell_type": "markdown",
   "metadata": {},
   "source": [
    "<img src=\"https://i2.wp.com/hackwagon.com/wp-content/uploads/2017/02/Logo-Web-Export.png?ssl=1\" width=200/>\n",
    "\n",
    "<h1>Hackwagon Academy DS102 - Problem Set 3</h1>\n",
    "<hr>\n",
    "\n",
    "This Problem Set consists of 20 questions, with each correct answer to be awarded 1 mark, totalling up to 20 marks.\n",
    "\n",
    "If you have any questions to the Problem Set, feel free to send a message to your TAs or Instructors in the Telegram chat. You are encouraged to also discuss the problem sets within your own groups.\n",
    "\n",
    "Attempt but minor syntax errors are awarded half the mark."
   ]
  },
  {
   "cell_type": "code",
   "execution_count": 1,
   "metadata": {},
   "outputs": [],
   "source": [
    "#Before you start, please perform the following 2 steps:\n",
    "#1. Rename the file to FirstName_LastName Hackwagon Academy DS102 - Problem Set 3 e.g. John_Doe Hackwagon Academy DS102 - Problem Set 1\n",
    "\n",
    "#2. Fill in your details here:\n",
    "#Name                    : Swathi Bhat\n",
    "\n",
    "#Start of Course Class(Edit accordingly): 17 August 2019, 3.30pm\n",
    "\n",
    "# FOR TA/INSTRUCTOR \n",
    "# Total Marks:  / 20"
   ]
  },
  {
   "cell_type": "code",
   "execution_count": 2,
   "metadata": {},
   "outputs": [],
   "source": [
    "import warnings\n",
    "warnings.filterwarnings('ignore')"
   ]
  },
  {
   "cell_type": "markdown",
   "metadata": {},
   "source": [
    "#### Credits \n",
    "\n",
    "This problem set is inspired by the [Lending Club Loan Data](https://www.kaggle.com/wendykan/lending-club-loan-data). "
   ]
  },
  {
   "cell_type": "markdown",
   "metadata": {},
   "source": [
    "<img src=\"https://d1ic4altzx8ueg.cloudfront.net/niche-builder/5cb94cef96518.png\" width=300>\n",
    "\n",
    "## Context \n",
    "\n",
    "LendingClub is a US peer-to-peer lending company, headquartered in San Francisco, California. It was the first peer-to-peer lender to register its offerings as securities with the Securities and Exchange Commission (SEC), and to offer loan trading on a secondary market. \n",
    "\n",
    "Your first project is to help LendingClub prepare a prediction model to help them detect loan defaulters. Having already conducted the sufficient exploratory data analysis, your project manager, Silver, wants you to to prepare several machine learning models. Using the dataset which you have preprocessed, `loans_transformed-200k.csv`, you will have to create both <b>supervised and unsupervised machine learning models</b>. Additionally, the `all_loan_desc.csv` dataset prepared for you to prepare a model on the loans descriptions. \n",
    "\n",
    "There are a total of 4 parts to this problem set:\n",
    "\n",
    "1. Naive Bayes Classifier - 8 marks\n",
    "2. K-Means Clustering - 7 marks\n",
    "3. Decision Tree Classifier - 3 marks\n",
    "4. Performance Measures - 2 marks"
   ]
  },
  {
   "cell_type": "markdown",
   "metadata": {},
   "source": [
    "## Naive Bayes Classifier - 8 marks\n",
    "\n",
    "Another team has prepared for you all of the descriptions within the loans dataset. This dataset has filtered for you rows with descriptions and the target variable the loan status. Your task is to clean it further and use <b>Naive Bayes Classification</b> technique to develop a model for detecting loan defaulters."
   ]
  },
  {
   "cell_type": "markdown",
   "metadata": {},
   "source": [
    "### Open Loans Decription File \n",
    "\n",
    "Open the file `all_loan_desc.csv` and store it as `all_desc_df`."
   ]
  },
  {
   "cell_type": "code",
   "execution_count": 76,
   "metadata": {
    "scrolled": true
   },
   "outputs": [],
   "source": [
    "import pandas as pd\n",
    "import numpy as np"
   ]
  },
  {
   "cell_type": "code",
   "execution_count": 147,
   "metadata": {},
   "outputs": [
    {
     "name": "stdout",
     "output_type": "stream",
     "text": [
      "(126067, 2)\n"
     ]
    },
    {
     "data": {
      "text/html": [
       "<div>\n",
       "<style scoped>\n",
       "    .dataframe tbody tr th:only-of-type {\n",
       "        vertical-align: middle;\n",
       "    }\n",
       "\n",
       "    .dataframe tbody tr th {\n",
       "        vertical-align: top;\n",
       "    }\n",
       "\n",
       "    .dataframe thead th {\n",
       "        text-align: right;\n",
       "    }\n",
       "</style>\n",
       "<table border=\"1\" class=\"dataframe\">\n",
       "  <thead>\n",
       "    <tr style=\"text-align: right;\">\n",
       "      <th></th>\n",
       "      <th>desc</th>\n",
       "      <th>loan_status</th>\n",
       "    </tr>\n",
       "  </thead>\n",
       "  <tbody>\n",
       "    <tr>\n",
       "      <th>0</th>\n",
       "      <td></td>\n",
       "      <td>Charged Off</td>\n",
       "    </tr>\n",
       "    <tr>\n",
       "      <th>1</th>\n",
       "      <td></td>\n",
       "      <td>Fully Paid</td>\n",
       "    </tr>\n",
       "    <tr>\n",
       "      <th>2</th>\n",
       "      <td>I currently have a loan out with CashCall. The...</td>\n",
       "      <td>Fully Paid</td>\n",
       "    </tr>\n",
       "    <tr>\n",
       "      <th>3</th>\n",
       "      <td>Consolidate debt</td>\n",
       "      <td>Current</td>\n",
       "    </tr>\n",
       "    <tr>\n",
       "      <th>4</th>\n",
       "      <td>This loan will be used solely to consolidate c...</td>\n",
       "      <td>Fully Paid</td>\n",
       "    </tr>\n",
       "  </tbody>\n",
       "</table>\n",
       "</div>"
      ],
      "text/plain": [
       "                                                desc  loan_status\n",
       "0                                                     Charged Off\n",
       "1                                                      Fully Paid\n",
       "2  I currently have a loan out with CashCall. The...   Fully Paid\n",
       "3                                   Consolidate debt      Current\n",
       "4  This loan will be used solely to consolidate c...   Fully Paid"
      ]
     },
     "execution_count": 147,
     "metadata": {},
     "output_type": "execute_result"
    }
   ],
   "source": [
    "all_desc_df = pd.read_csv('all_loan_desc.csv')\n",
    "# testing \n",
    "print(all_desc_df.shape)\n",
    "all_desc_df.head()"
   ]
  },
  {
   "cell_type": "markdown",
   "metadata": {},
   "source": [
    "### Q1. Integer Encoding\n",
    "\n",
    "With the target variable `loan_status`, create a new column called `target`, where if the value contains the word `Charged Off`, `Status:Charged Off` or `Default`, it will be `1`; else it will be `0`. Afterwhich, reduce the dataframe to just the `desc` and `target` columns. \n",
    "\n",
    "**Expected Output:**\n",
    "\n",
    "<img src=\"https://i.imgur.com/ztyxJh0.png\">"
   ]
  },
  {
   "cell_type": "code",
   "execution_count": 148,
   "metadata": {},
   "outputs": [
    {
     "name": "stdout",
     "output_type": "stream",
     "text": [
      "['Charged Off' 'Fully Paid' 'Current' 'Late (16-30 days)'\n",
      " 'Late (31-120 days)' 'In Grace Period'\n",
      " 'Does not meet the credit policy. Status:Fully Paid'\n",
      " 'Does not meet the credit policy. Status:Charged Off']\n"
     ]
    },
    {
     "data": {
      "text/html": [
       "<div>\n",
       "<style scoped>\n",
       "    .dataframe tbody tr th:only-of-type {\n",
       "        vertical-align: middle;\n",
       "    }\n",
       "\n",
       "    .dataframe tbody tr th {\n",
       "        vertical-align: top;\n",
       "    }\n",
       "\n",
       "    .dataframe thead th {\n",
       "        text-align: right;\n",
       "    }\n",
       "</style>\n",
       "<table border=\"1\" class=\"dataframe\">\n",
       "  <thead>\n",
       "    <tr style=\"text-align: right;\">\n",
       "      <th></th>\n",
       "      <th>desc</th>\n",
       "      <th>loan_status</th>\n",
       "      <th>target</th>\n",
       "    </tr>\n",
       "  </thead>\n",
       "  <tbody>\n",
       "    <tr>\n",
       "      <th>0</th>\n",
       "      <td></td>\n",
       "      <td>Charged Off</td>\n",
       "      <td>1</td>\n",
       "    </tr>\n",
       "    <tr>\n",
       "      <th>1</th>\n",
       "      <td></td>\n",
       "      <td>Fully Paid</td>\n",
       "      <td>0</td>\n",
       "    </tr>\n",
       "    <tr>\n",
       "      <th>2</th>\n",
       "      <td>I currently have a loan out with CashCall. The...</td>\n",
       "      <td>Fully Paid</td>\n",
       "      <td>0</td>\n",
       "    </tr>\n",
       "    <tr>\n",
       "      <th>3</th>\n",
       "      <td>Consolidate debt</td>\n",
       "      <td>Current</td>\n",
       "      <td>0</td>\n",
       "    </tr>\n",
       "    <tr>\n",
       "      <th>4</th>\n",
       "      <td>This loan will be used solely to consolidate c...</td>\n",
       "      <td>Fully Paid</td>\n",
       "      <td>0</td>\n",
       "    </tr>\n",
       "  </tbody>\n",
       "</table>\n",
       "</div>"
      ],
      "text/plain": [
       "                                                desc  loan_status  target\n",
       "0                                                     Charged Off       1\n",
       "1                                                      Fully Paid       0\n",
       "2  I currently have a loan out with CashCall. The...   Fully Paid       0\n",
       "3                                   Consolidate debt      Current       0\n",
       "4  This loan will be used solely to consolidate c...   Fully Paid       0"
      ]
     },
     "execution_count": 148,
     "metadata": {},
     "output_type": "execute_result"
    }
   ],
   "source": [
    "# retrieving unique values of loan_status \n",
    "print(all_desc_df['loan_status'].unique())\n",
    "# integer encoding \n",
    "def int_encoder(x):\n",
    "    if ('Default' in x) or ('Charged Off' in x) or ('Status:Charged Off' in x):\n",
    "        return 1\n",
    "    else:\n",
    "        return 0\n",
    "# Applying the function to loan_status \n",
    "target = all_desc_df['loan_status'].apply(int_encoder)\n",
    "all_desc_df['target'] = target \n",
    "# testing \n",
    "all_desc_df.head()"
   ]
  },
  {
   "cell_type": "code",
   "execution_count": 149,
   "metadata": {},
   "outputs": [
    {
     "data": {
      "text/html": [
       "<div>\n",
       "<style scoped>\n",
       "    .dataframe tbody tr th:only-of-type {\n",
       "        vertical-align: middle;\n",
       "    }\n",
       "\n",
       "    .dataframe tbody tr th {\n",
       "        vertical-align: top;\n",
       "    }\n",
       "\n",
       "    .dataframe thead th {\n",
       "        text-align: right;\n",
       "    }\n",
       "</style>\n",
       "<table border=\"1\" class=\"dataframe\">\n",
       "  <thead>\n",
       "    <tr style=\"text-align: right;\">\n",
       "      <th></th>\n",
       "      <th>desc</th>\n",
       "      <th>target</th>\n",
       "    </tr>\n",
       "  </thead>\n",
       "  <tbody>\n",
       "    <tr>\n",
       "      <th>0</th>\n",
       "      <td></td>\n",
       "      <td>1</td>\n",
       "    </tr>\n",
       "    <tr>\n",
       "      <th>1</th>\n",
       "      <td></td>\n",
       "      <td>0</td>\n",
       "    </tr>\n",
       "    <tr>\n",
       "      <th>2</th>\n",
       "      <td>I currently have a loan out with CashCall. The...</td>\n",
       "      <td>0</td>\n",
       "    </tr>\n",
       "    <tr>\n",
       "      <th>3</th>\n",
       "      <td>Consolidate debt</td>\n",
       "      <td>0</td>\n",
       "    </tr>\n",
       "    <tr>\n",
       "      <th>4</th>\n",
       "      <td>This loan will be used solely to consolidate c...</td>\n",
       "      <td>0</td>\n",
       "    </tr>\n",
       "  </tbody>\n",
       "</table>\n",
       "</div>"
      ],
      "text/plain": [
       "                                                desc  target\n",
       "0                                                          1\n",
       "1                                                          0\n",
       "2  I currently have a loan out with CashCall. The...       0\n",
       "3                                   Consolidate debt       0\n",
       "4  This loan will be used solely to consolidate c...       0"
      ]
     },
     "execution_count": 149,
     "metadata": {},
     "output_type": "execute_result"
    }
   ],
   "source": [
    "# reducing the dataframe\n",
    "all_desc_df = all_desc_df.loc[:, ['desc', 'target']]\n",
    "# testing \n",
    "all_desc_df.head()"
   ]
  },
  {
   "cell_type": "code",
   "execution_count": 7,
   "metadata": {},
   "outputs": [],
   "source": [
    "## TA/INSTRUCTOR ONLY\n",
    "## MARK AWARDED: /1"
   ]
  },
  {
   "cell_type": "markdown",
   "metadata": {},
   "source": [
    "### Q2. Simple Cleaning\n",
    "\n",
    "To ensure that your model is efficient, conduct simple cleaning on each description where the descriptions:\n",
    "\n",
    "1. Only contains alphanumeric characters (<i>hint: use regular expression</i>)\n",
    "2. Entirely lowercase\n",
    "3. Without trailing or leading spaces \n",
    "4. Not empty strings (<i>hint: use filter</i>)\n",
    "\n",
    "**Expected Output:**\n",
    "\n",
    "<img src=\"https://i.imgur.com/pbLsgSa.png\">"
   ]
  },
  {
   "cell_type": "code",
   "execution_count": 150,
   "metadata": {},
   "outputs": [
    {
     "data": {
      "text/html": [
       "<div>\n",
       "<style scoped>\n",
       "    .dataframe tbody tr th:only-of-type {\n",
       "        vertical-align: middle;\n",
       "    }\n",
       "\n",
       "    .dataframe tbody tr th {\n",
       "        vertical-align: top;\n",
       "    }\n",
       "\n",
       "    .dataframe thead th {\n",
       "        text-align: right;\n",
       "    }\n",
       "</style>\n",
       "<table border=\"1\" class=\"dataframe\">\n",
       "  <thead>\n",
       "    <tr style=\"text-align: right;\">\n",
       "      <th></th>\n",
       "      <th>desc</th>\n",
       "      <th>target</th>\n",
       "    </tr>\n",
       "  </thead>\n",
       "  <tbody>\n",
       "    <tr>\n",
       "      <th>2</th>\n",
       "      <td>i currently have a loan out with cashcall the ...</td>\n",
       "      <td>0</td>\n",
       "    </tr>\n",
       "    <tr>\n",
       "      <th>3</th>\n",
       "      <td>consolidate debt</td>\n",
       "      <td>0</td>\n",
       "    </tr>\n",
       "    <tr>\n",
       "      <th>4</th>\n",
       "      <td>this loan will be used solely to consolidate c...</td>\n",
       "      <td>0</td>\n",
       "    </tr>\n",
       "    <tr>\n",
       "      <th>5</th>\n",
       "      <td>i have recently purchased and built a new home...</td>\n",
       "      <td>0</td>\n",
       "    </tr>\n",
       "    <tr>\n",
       "      <th>6</th>\n",
       "      <td>temporary cash flow challenges would like this...</td>\n",
       "      <td>0</td>\n",
       "    </tr>\n",
       "  </tbody>\n",
       "</table>\n",
       "</div>"
      ],
      "text/plain": [
       "                                                desc  target\n",
       "2  i currently have a loan out with cashcall the ...       0\n",
       "3                                   consolidate debt       0\n",
       "4  this loan will be used solely to consolidate c...       0\n",
       "5  i have recently purchased and built a new home...       0\n",
       "6  temporary cash flow challenges would like this...       0"
      ]
     },
     "execution_count": 150,
     "metadata": {},
     "output_type": "execute_result"
    }
   ],
   "source": [
    "import re\n",
    "# creating a function to clean descriptions \n",
    "def cleaner(text):\n",
    "    pattern = re.compile('([^\\s\\w]|_)+')\n",
    "    text = re.sub(pattern, \"\", text)\n",
    "    return text.lower().strip()\n",
    "# applying the function \n",
    "all_desc_df['desc'] = all_desc_df['desc'].apply(cleaner)\n",
    "\n",
    "# replacing empty string with NaN to drop NaN\n",
    "all_desc_df['desc'].replace('', np.nan, inplace = True)\n",
    "all_desc_df.dropna(subset=['desc'], inplace=True)\n",
    "\n",
    "# testing \n",
    "all_desc_df.head()"
   ]
  },
  {
   "cell_type": "code",
   "execution_count": 9,
   "metadata": {},
   "outputs": [],
   "source": [
    "## TA/INSTRUCTOR ONLY\n",
    "## MARK AWARDED: /1"
   ]
  },
  {
   "cell_type": "markdown",
   "metadata": {},
   "source": [
    "### Q3. Tokenize and Stem Words\n",
    "\n",
    "For simplicity and lower processing time, you decided to use `PorterStemmer` to stem each word. As such, you would need to reduce each description to their root form. \n",
    "\n",
    "Steps: \n",
    "\n",
    "1. With the `nltk` library, use `word_tokenize` to tokenize each description (a list of words)\n",
    "2. Use the `PorterStemmer` to stem each word (using a for-loop). \n",
    "3. Join up the stemmed words as a string.\n",
    "\n",
    "All steps above must be done <b>within the same function.</b> Your function should return a string.\n",
    "\n",
    "Using the `apply()` method, create a new column called `desc_stem` to the `all_desc_df`. \n",
    "\n",
    "<b>Note: This part might take awhile to run (an average of 3 minutes).</b>\n",
    "\n",
    "**Expected Output:**\n",
    "\n",
    "<img src=\"https://i.imgur.com/XXDqd3i.png\">"
   ]
  },
  {
   "cell_type": "code",
   "execution_count": 10,
   "metadata": {},
   "outputs": [],
   "source": [
    "from nltk.stem import PorterStemmer\n",
    "from nltk.tokenize import word_tokenize\n",
    "stemmer = PorterStemmer()"
   ]
  },
  {
   "cell_type": "code",
   "execution_count": 151,
   "metadata": {},
   "outputs": [],
   "source": [
    "# creating a function to tokenise and stem words\n",
    "def word_editor(desc):\n",
    "    tokens_list = word_tokenize(desc)\n",
    "    stemmed_list = []\n",
    "    new_desc = ''\n",
    "    for item in tokens_list:\n",
    "        new_item = stemmer.stem(item)\n",
    "        stemmed_list.append(new_item)\n",
    "    for word in stemmed_list:\n",
    "        new_desc += word + ' '\n",
    "    return new_desc \n",
    "\n",
    "# testing\n",
    "# test =  all_desc_df.get_value(2, 'desc')\n",
    "# word_editor(test)"
   ]
  },
  {
   "cell_type": "code",
   "execution_count": 152,
   "metadata": {},
   "outputs": [
    {
     "data": {
      "text/html": [
       "<div>\n",
       "<style scoped>\n",
       "    .dataframe tbody tr th:only-of-type {\n",
       "        vertical-align: middle;\n",
       "    }\n",
       "\n",
       "    .dataframe tbody tr th {\n",
       "        vertical-align: top;\n",
       "    }\n",
       "\n",
       "    .dataframe thead th {\n",
       "        text-align: right;\n",
       "    }\n",
       "</style>\n",
       "<table border=\"1\" class=\"dataframe\">\n",
       "  <thead>\n",
       "    <tr style=\"text-align: right;\">\n",
       "      <th></th>\n",
       "      <th>desc</th>\n",
       "      <th>target</th>\n",
       "      <th>desc_stem</th>\n",
       "    </tr>\n",
       "  </thead>\n",
       "  <tbody>\n",
       "    <tr>\n",
       "      <th>2</th>\n",
       "      <td>i currently have a loan out with cashcall the ...</td>\n",
       "      <td>0</td>\n",
       "      <td>i current have a loan out with cashcal the int...</td>\n",
       "    </tr>\n",
       "    <tr>\n",
       "      <th>3</th>\n",
       "      <td>consolidate debt</td>\n",
       "      <td>0</td>\n",
       "      <td>consolid debt</td>\n",
       "    </tr>\n",
       "    <tr>\n",
       "      <th>4</th>\n",
       "      <td>this loan will be used solely to consolidate c...</td>\n",
       "      <td>0</td>\n",
       "      <td>thi loan will be use sole to consolid credit c...</td>\n",
       "    </tr>\n",
       "    <tr>\n",
       "      <th>5</th>\n",
       "      <td>i have recently purchased and built a new home...</td>\n",
       "      <td>0</td>\n",
       "      <td>i have recent purchas and built a new home tha...</td>\n",
       "    </tr>\n",
       "    <tr>\n",
       "      <th>6</th>\n",
       "      <td>temporary cash flow challenges would like this...</td>\n",
       "      <td>0</td>\n",
       "      <td>temporari cash flow challeng would like thi lo...</td>\n",
       "    </tr>\n",
       "  </tbody>\n",
       "</table>\n",
       "</div>"
      ],
      "text/plain": [
       "                                                desc  target  \\\n",
       "2  i currently have a loan out with cashcall the ...       0   \n",
       "3                                   consolidate debt       0   \n",
       "4  this loan will be used solely to consolidate c...       0   \n",
       "5  i have recently purchased and built a new home...       0   \n",
       "6  temporary cash flow challenges would like this...       0   \n",
       "\n",
       "                                           desc_stem  \n",
       "2  i current have a loan out with cashcal the int...  \n",
       "3                                     consolid debt   \n",
       "4  thi loan will be use sole to consolid credit c...  \n",
       "5  i have recent purchas and built a new home tha...  \n",
       "6  temporari cash flow challeng would like thi lo...  "
      ]
     },
     "execution_count": 152,
     "metadata": {},
     "output_type": "execute_result"
    }
   ],
   "source": [
    "# Applying the function to desc \n",
    "desc_stem = all_desc_df['desc'].apply(word_editor)\n",
    "all_desc_df['desc_stem'] = desc_stem \n",
    "\n",
    "# testing \n",
    "all_desc_df.head()"
   ]
  },
  {
   "cell_type": "code",
   "execution_count": 13,
   "metadata": {},
   "outputs": [],
   "source": [
    "## TA/INSTRUCTOR ONLY\n",
    "## MARK AWARDED: /1"
   ]
  },
  {
   "cell_type": "markdown",
   "metadata": {},
   "source": [
    "### Q4. Stop Words Removal\n",
    "\n",
    "To keep only relevant words, you will remove all stopwords from each description by using the `stopwords` corpus to remove them. \n",
    "\n",
    "Steps: \n",
    "\n",
    "1. Create the list of stopwords in `english`\n",
    "2. Tokenize the each description\n",
    "3. Check for stopwords \n",
    "4. Join up non stopwords as a string\n",
    "\n",
    "All steps, except step 1, must be done <b>within the same function.</b> Your function should return a string.\n",
    "\n",
    "Using the `apply()` method, create a new column called `desc_no_stopwords` to the `all_desc_df`. \n",
    "\n",
    "<b>Note: This part might take awhile to run (an average of 2 minutes).</b>\n",
    "\n",
    "**Expected Output:**\n",
    "\n",
    "<img src=\"https://i.imgur.com/1fED4Uu.png\">"
   ]
  },
  {
   "cell_type": "code",
   "execution_count": 14,
   "metadata": {},
   "outputs": [],
   "source": [
    "from nltk.corpus import stopwords\n",
    "STOP_WORDS = list(stopwords.words('english'))\n",
    "# testing\n",
    "# STOP_WORDS"
   ]
  },
  {
   "cell_type": "code",
   "execution_count": 153,
   "metadata": {},
   "outputs": [],
   "source": [
    "# creating function \n",
    "def desc_cleaner(b):\n",
    "    desc_list = word_tokenize(b)\n",
    "    new_list = []\n",
    "    new_str = ''\n",
    "    for word in desc_list:\n",
    "        if word not in STOP_WORDS:\n",
    "            new_str += word + ' '\n",
    "    return new_str"
   ]
  },
  {
   "cell_type": "code",
   "execution_count": 154,
   "metadata": {},
   "outputs": [
    {
     "data": {
      "text/html": [
       "<div>\n",
       "<style scoped>\n",
       "    .dataframe tbody tr th:only-of-type {\n",
       "        vertical-align: middle;\n",
       "    }\n",
       "\n",
       "    .dataframe tbody tr th {\n",
       "        vertical-align: top;\n",
       "    }\n",
       "\n",
       "    .dataframe thead th {\n",
       "        text-align: right;\n",
       "    }\n",
       "</style>\n",
       "<table border=\"1\" class=\"dataframe\">\n",
       "  <thead>\n",
       "    <tr style=\"text-align: right;\">\n",
       "      <th></th>\n",
       "      <th>desc</th>\n",
       "      <th>target</th>\n",
       "      <th>desc_stem</th>\n",
       "      <th>desc_cleaned</th>\n",
       "    </tr>\n",
       "  </thead>\n",
       "  <tbody>\n",
       "    <tr>\n",
       "      <th>2</th>\n",
       "      <td>i currently have a loan out with cashcall the ...</td>\n",
       "      <td>0</td>\n",
       "      <td>i current have a loan out with cashcal the int...</td>\n",
       "      <td>current loan cashcal interest rate 96 time too...</td>\n",
       "    </tr>\n",
       "    <tr>\n",
       "      <th>3</th>\n",
       "      <td>consolidate debt</td>\n",
       "      <td>0</td>\n",
       "      <td>consolid debt</td>\n",
       "      <td>consolid debt</td>\n",
       "    </tr>\n",
       "    <tr>\n",
       "      <th>4</th>\n",
       "      <td>this loan will be used solely to consolidate c...</td>\n",
       "      <td>0</td>\n",
       "      <td>thi loan will be use sole to consolid credit c...</td>\n",
       "      <td>thi loan use sole consolid credit card debt ac...</td>\n",
       "    </tr>\n",
       "    <tr>\n",
       "      <th>5</th>\n",
       "      <td>i have recently purchased and built a new home...</td>\n",
       "      <td>0</td>\n",
       "      <td>i have recent purchas and built a new home tha...</td>\n",
       "      <td>recent purchas built new home alway dream woul...</td>\n",
       "    </tr>\n",
       "    <tr>\n",
       "      <th>6</th>\n",
       "      <td>temporary cash flow challenges would like this...</td>\n",
       "      <td>0</td>\n",
       "      <td>temporari cash flow challeng would like thi lo...</td>\n",
       "      <td>temporari cash flow challeng would like thi lo...</td>\n",
       "    </tr>\n",
       "  </tbody>\n",
       "</table>\n",
       "</div>"
      ],
      "text/plain": [
       "                                                desc  target  \\\n",
       "2  i currently have a loan out with cashcall the ...       0   \n",
       "3                                   consolidate debt       0   \n",
       "4  this loan will be used solely to consolidate c...       0   \n",
       "5  i have recently purchased and built a new home...       0   \n",
       "6  temporary cash flow challenges would like this...       0   \n",
       "\n",
       "                                           desc_stem  \\\n",
       "2  i current have a loan out with cashcal the int...   \n",
       "3                                     consolid debt    \n",
       "4  thi loan will be use sole to consolid credit c...   \n",
       "5  i have recent purchas and built a new home tha...   \n",
       "6  temporari cash flow challeng would like thi lo...   \n",
       "\n",
       "                                        desc_cleaned  \n",
       "2  current loan cashcal interest rate 96 time too...  \n",
       "3                                     consolid debt   \n",
       "4  thi loan use sole consolid credit card debt ac...  \n",
       "5  recent purchas built new home alway dream woul...  \n",
       "6  temporari cash flow challeng would like thi lo...  "
      ]
     },
     "execution_count": 154,
     "metadata": {},
     "output_type": "execute_result"
    }
   ],
   "source": [
    "# applying the function \n",
    "desc_cleaned = all_desc_df['desc_stem'].apply(desc_cleaner)\n",
    "all_desc_df['desc_cleaned'] = desc_cleaned\n",
    "\n",
    "# testing \n",
    "all_desc_df.head()"
   ]
  },
  {
   "cell_type": "code",
   "execution_count": 17,
   "metadata": {},
   "outputs": [],
   "source": [
    "## TA/INSTRUCTOR ONLY\n",
    "## MARKS AWARDED: /1"
   ]
  },
  {
   "cell_type": "markdown",
   "metadata": {},
   "source": [
    "### Q5. Train Test Split\n",
    "\n",
    "Split your data up into training and testing sets using `sklearn.model_selection` with `train_test_split`, into 4 different variables, `x_train`, `x_test`, `y_train` and `y_test`, where: \n",
    "\n",
    "- <b>first</b> argument should be the `desc_cleaned` column but as a <b>DataFrame (2 square brackets)</b>\n",
    "- <b>second</b> argument should <b>only</b> be the `target` column\n",
    "- `random_state` is 0\n",
    "- `test_size` is 0.2"
   ]
  },
  {
   "cell_type": "code",
   "execution_count": 18,
   "metadata": {},
   "outputs": [],
   "source": [
    "from sklearn.model_selection import train_test_split"
   ]
  },
  {
   "cell_type": "code",
   "execution_count": 155,
   "metadata": {},
   "outputs": [
    {
     "name": "stdout",
     "output_type": "stream",
     "text": [
      "(100650, 1)\n",
      "(100650,)\n",
      "(125813,)\n",
      "(25163, 1)\n"
     ]
    }
   ],
   "source": [
    "X = all_desc_df[['desc_cleaned']]\n",
    "Y = all_desc_df['target']\n",
    "\n",
    "X_train, X_test, Y_train, Y_test = train_test_split(X, Y, test_size=0.2, random_state=0)\n",
    "\n",
    "# testing \n",
    "print(X_train.shape)\n",
    "print(Y_train.shape)\n",
    "print(Y.shape)\n",
    "print(X_test.shape)"
   ]
  },
  {
   "cell_type": "code",
   "execution_count": 20,
   "metadata": {},
   "outputs": [],
   "source": [
    "## TA/INSTRUCTOR ONLY\n",
    "## MARKS AWARDED: /1"
   ]
  },
  {
   "cell_type": "markdown",
   "metadata": {},
   "source": [
    "### Q6. Vectorizer\n",
    "\n",
    "As you would be using the Naive Bayes Classifier, you would need to transform your description into a matrix of 1s and 0s. Use the `CountVectorizer` to transform your `desc_cleaned` into a matrix, called `desc_matrix`."
   ]
  },
  {
   "cell_type": "code",
   "execution_count": 58,
   "metadata": {},
   "outputs": [],
   "source": [
    "from sklearn.feature_extraction.text import CountVectorizer"
   ]
  },
  {
   "cell_type": "code",
   "execution_count": 156,
   "metadata": {},
   "outputs": [
    {
     "data": {
      "text/plain": [
       "<100650x55058 sparse matrix of type '<class 'numpy.int64'>'\n",
       "\twith 2039365 stored elements in Compressed Sparse Row format>"
      ]
     },
     "execution_count": 156,
     "metadata": {},
     "output_type": "execute_result"
    }
   ],
   "source": [
    "vectorizer = CountVectorizer()\n",
    "vectorizer.fit(X_train['desc_cleaned'])\n",
    "desc_matrix = vectorizer.transform(X_train['desc_cleaned'])\n",
    "# testing\n",
    "desc_matrix"
   ]
  },
  {
   "cell_type": "code",
   "execution_count": 23,
   "metadata": {},
   "outputs": [],
   "source": [
    "## TA/INSTRUCTOR ONLY\n",
    "## MARKS AWARDED: /1"
   ]
  },
  {
   "cell_type": "markdown",
   "metadata": {},
   "source": [
    "### Q7. Multinomial Naive Bayes Classifier \n",
    "\n",
    "Create a new `MultinomialNB` classifer and name it as `desc_classifier`, then `.fit()` the vectorized matrix, `desc_matrix` and `y_train`."
   ]
  },
  {
   "cell_type": "code",
   "execution_count": 24,
   "metadata": {},
   "outputs": [],
   "source": [
    "from sklearn.naive_bayes import MultinomialNB"
   ]
  },
  {
   "cell_type": "code",
   "execution_count": 157,
   "metadata": {},
   "outputs": [
    {
     "data": {
      "text/plain": [
       "MultinomialNB(alpha=1.0, class_prior=None, fit_prior=True)"
      ]
     },
     "execution_count": 157,
     "metadata": {},
     "output_type": "execute_result"
    }
   ],
   "source": [
    "desc_classifier = MultinomialNB()\n",
    "desc_fit = desc_classifier.fit(desc_matrix, Y_train)\n",
    "desc_fit"
   ]
  },
  {
   "cell_type": "code",
   "execution_count": 26,
   "metadata": {},
   "outputs": [],
   "source": [
    "## TA/INSTRUCTOR ONLY\n",
    "## MARKS AWARDED: /1"
   ]
  },
  {
   "cell_type": "markdown",
   "metadata": {},
   "source": [
    "### Q8. Confusion Matrix\n",
    "\n",
    "Plot the confusion matrix for the Naive Bayes Classifier by:\n",
    "\n",
    "1. Vectorizing (transform) the `x_test` of `desc_cleaned` \n",
    "2. Using `.predict` on the vectorized set from the to get the test results\n",
    "3. Use `sns.heatmap` to create confusion matrix\n",
    "4. Set `.ylim()` to (2,0)\n",
    "5. Set `.xlim()` to (0,2)\n",
    "\n",
    "**Expected Output:**\n",
    "\n",
    "<img src=\"https://i.imgur.com/InjikTM.png\">"
   ]
  },
  {
   "cell_type": "code",
   "execution_count": 158,
   "metadata": {},
   "outputs": [],
   "source": [
    "# vectorising x_test\n",
    "test_matrix = vectorizer.transform(X_test['desc_cleaned'])\n",
    "# predicting \n",
    "test_nb = desc_fit.predict(test_matrix)"
   ]
  },
  {
   "cell_type": "code",
   "execution_count": 63,
   "metadata": {},
   "outputs": [],
   "source": [
    "# visualising a confusion matrix\n",
    "import seaborn as sns\n",
    "import matplotlib.pyplot as plt\n",
    "from sklearn.metrics import confusion_matrix"
   ]
  },
  {
   "cell_type": "code",
   "execution_count": 159,
   "metadata": {},
   "outputs": [
    {
     "data": {
      "image/png": "[encoded data removed]",
      "text/plain": [
       "<Figure size 576x360 with 2 Axes>"
      ]
     },
     "metadata": {
      "needs_background": "light"
     },
     "output_type": "display_data"
    }
   ],
   "source": [
    "# confusion matrix \n",
    "test_nb_cm = confusion_matrix(Y_test, test_nb)\n",
    "\n",
    "# graphing\n",
    "fig = plt.figure(figsize = (8,5))\n",
    "\n",
    "ax = sns.heatmap(test_nb_cm , \n",
    "            annot = True,\n",
    "            fmt = '.0f')\n",
    "ax.set(title = 'Confusion Matrix of Naive Bayes Classification of Loan Description', \n",
    "         xlabel = 'Predicted', \n",
    "         ylabel = 'Actual', \n",
    "         xlim = (0,2), \n",
    "         ylim = (2,0))\n",
    "plt.show()"
   ]
  },
  {
   "cell_type": "code",
   "execution_count": 30,
   "metadata": {},
   "outputs": [],
   "source": [
    "## TA/INSTRUCTOR ONLY\n",
    "## MARKS AWARDED: /1"
   ]
  },
  {
   "cell_type": "markdown",
   "metadata": {},
   "source": [
    "## K-Means Clustering - 7 marks\n",
    "\n",
    "To discover more insights about the dataset, you decided to ran the K-means clustering algorithm to discover the different clusters that could form. \n",
    "\n",
    "### Open Loans Data (Non-Description) File\n",
    "\n",
    "Open the `loans_transformed-200k.csv` as `all_loans_df`. "
   ]
  },
  {
   "cell_type": "code",
   "execution_count": 31,
   "metadata": {
    "scrolled": true
   },
   "outputs": [
    {
     "data": {
      "text/html": [
       "<div>\n",
       "<style scoped>\n",
       "    .dataframe tbody tr th:only-of-type {\n",
       "        vertical-align: middle;\n",
       "    }\n",
       "\n",
       "    .dataframe tbody tr th {\n",
       "        vertical-align: top;\n",
       "    }\n",
       "\n",
       "    .dataframe thead th {\n",
       "        text-align: right;\n",
       "    }\n",
       "</style>\n",
       "<table border=\"1\" class=\"dataframe\">\n",
       "  <thead>\n",
       "    <tr style=\"text-align: right;\">\n",
       "      <th></th>\n",
       "      <th>loan_amnt</th>\n",
       "      <th>term</th>\n",
       "      <th>int_rate</th>\n",
       "      <th>installment</th>\n",
       "      <th>grade</th>\n",
       "      <th>emp_length</th>\n",
       "      <th>home_ownership</th>\n",
       "      <th>annual_inc</th>\n",
       "      <th>verification_status</th>\n",
       "      <th>purpose</th>\n",
       "      <th>...</th>\n",
       "      <th>loan_status</th>\n",
       "      <th>term_int</th>\n",
       "      <th>grade_int</th>\n",
       "      <th>emp_length_int</th>\n",
       "      <th>home_ownership_int</th>\n",
       "      <th>verification_status_int</th>\n",
       "      <th>purpose_int</th>\n",
       "      <th>income_tax</th>\n",
       "      <th>int_round</th>\n",
       "      <th>target</th>\n",
       "    </tr>\n",
       "  </thead>\n",
       "  <tbody>\n",
       "    <tr>\n",
       "      <th>0</th>\n",
       "      <td>14400</td>\n",
       "      <td>36 months</td>\n",
       "      <td>14.47</td>\n",
       "      <td>495.46</td>\n",
       "      <td>C</td>\n",
       "      <td>10+ years</td>\n",
       "      <td>MORTGAGE</td>\n",
       "      <td>109000.0</td>\n",
       "      <td>Source Verified</td>\n",
       "      <td>debt_consolidation</td>\n",
       "      <td>...</td>\n",
       "      <td>Current</td>\n",
       "      <td>0</td>\n",
       "      <td>2</td>\n",
       "      <td>10</td>\n",
       "      <td>0</td>\n",
       "      <td>1</td>\n",
       "      <td>1</td>\n",
       "      <td>8175.0</td>\n",
       "      <td>14</td>\n",
       "      <td>Non Default</td>\n",
       "    </tr>\n",
       "    <tr>\n",
       "      <th>1</th>\n",
       "      <td>8000</td>\n",
       "      <td>36 months</td>\n",
       "      <td>10.75</td>\n",
       "      <td>260.97</td>\n",
       "      <td>B</td>\n",
       "      <td>3 years</td>\n",
       "      <td>MORTGAGE</td>\n",
       "      <td>50000.0</td>\n",
       "      <td>Source Verified</td>\n",
       "      <td>credit_card</td>\n",
       "      <td>...</td>\n",
       "      <td>Current</td>\n",
       "      <td>0</td>\n",
       "      <td>1</td>\n",
       "      <td>3</td>\n",
       "      <td>0</td>\n",
       "      <td>1</td>\n",
       "      <td>3</td>\n",
       "      <td>0.0</td>\n",
       "      <td>11</td>\n",
       "      <td>Non Default</td>\n",
       "    </tr>\n",
       "    <tr>\n",
       "      <th>2</th>\n",
       "      <td>9500</td>\n",
       "      <td>36 months</td>\n",
       "      <td>18.45</td>\n",
       "      <td>345.60</td>\n",
       "      <td>D</td>\n",
       "      <td>3 years</td>\n",
       "      <td>MORTGAGE</td>\n",
       "      <td>138000.0</td>\n",
       "      <td>Source Verified</td>\n",
       "      <td>credit_card</td>\n",
       "      <td>...</td>\n",
       "      <td>Current</td>\n",
       "      <td>0</td>\n",
       "      <td>3</td>\n",
       "      <td>3</td>\n",
       "      <td>0</td>\n",
       "      <td>1</td>\n",
       "      <td>3</td>\n",
       "      <td>10350.0</td>\n",
       "      <td>18</td>\n",
       "      <td>Non Default</td>\n",
       "    </tr>\n",
       "    <tr>\n",
       "      <th>3</th>\n",
       "      <td>16000</td>\n",
       "      <td>60 months</td>\n",
       "      <td>18.99</td>\n",
       "      <td>414.97</td>\n",
       "      <td>D</td>\n",
       "      <td>&lt; 1 year</td>\n",
       "      <td>OWN</td>\n",
       "      <td>66000.0</td>\n",
       "      <td>Not Verified</td>\n",
       "      <td>debt_consolidation</td>\n",
       "      <td>...</td>\n",
       "      <td>Current</td>\n",
       "      <td>1</td>\n",
       "      <td>3</td>\n",
       "      <td>0</td>\n",
       "      <td>1</td>\n",
       "      <td>2</td>\n",
       "      <td>1</td>\n",
       "      <td>4950.0</td>\n",
       "      <td>19</td>\n",
       "      <td>Non Default</td>\n",
       "    </tr>\n",
       "    <tr>\n",
       "      <th>4</th>\n",
       "      <td>6800</td>\n",
       "      <td>36 months</td>\n",
       "      <td>13.99</td>\n",
       "      <td>232.38</td>\n",
       "      <td>C</td>\n",
       "      <td>10+ years</td>\n",
       "      <td>MORTGAGE</td>\n",
       "      <td>63000.0</td>\n",
       "      <td>Not Verified</td>\n",
       "      <td>debt_consolidation</td>\n",
       "      <td>...</td>\n",
       "      <td>Current</td>\n",
       "      <td>0</td>\n",
       "      <td>2</td>\n",
       "      <td>10</td>\n",
       "      <td>0</td>\n",
       "      <td>2</td>\n",
       "      <td>1</td>\n",
       "      <td>0.0</td>\n",
       "      <td>14</td>\n",
       "      <td>Non Default</td>\n",
       "    </tr>\n",
       "  </tbody>\n",
       "</table>\n",
       "<p>5 rows × 22 columns</p>\n",
       "</div>"
      ],
      "text/plain": [
       "   loan_amnt        term  int_rate  installment grade emp_length  \\\n",
       "0      14400   36 months     14.47       495.46     C  10+ years   \n",
       "1       8000   36 months     10.75       260.97     B    3 years   \n",
       "2       9500   36 months     18.45       345.60     D    3 years   \n",
       "3      16000   60 months     18.99       414.97     D   < 1 year   \n",
       "4       6800   36 months     13.99       232.38     C  10+ years   \n",
       "\n",
       "  home_ownership  annual_inc verification_status             purpose  ...  \\\n",
       "0       MORTGAGE    109000.0     Source Verified  debt_consolidation  ...   \n",
       "1       MORTGAGE     50000.0     Source Verified         credit_card  ...   \n",
       "2       MORTGAGE    138000.0     Source Verified         credit_card  ...   \n",
       "3            OWN     66000.0        Not Verified  debt_consolidation  ...   \n",
       "4       MORTGAGE     63000.0        Not Verified  debt_consolidation  ...   \n",
       "\n",
       "   loan_status  term_int grade_int  emp_length_int  home_ownership_int  \\\n",
       "0      Current         0         2              10                   0   \n",
       "1      Current         0         1               3                   0   \n",
       "2      Current         0         3               3                   0   \n",
       "3      Current         1         3               0                   1   \n",
       "4      Current         0         2              10                   0   \n",
       "\n",
       "   verification_status_int  purpose_int  income_tax  int_round       target  \n",
       "0                        1            1      8175.0         14  Non Default  \n",
       "1                        1            3         0.0         11  Non Default  \n",
       "2                        1            3     10350.0         18  Non Default  \n",
       "3                        2            1      4950.0         19  Non Default  \n",
       "4                        2            1         0.0         14  Non Default  \n",
       "\n",
       "[5 rows x 22 columns]"
      ]
     },
     "execution_count": 31,
     "metadata": {},
     "output_type": "execute_result"
    }
   ],
   "source": [
    "all_loans_df = pd.read_csv('loans_transformed-200k.csv')\n",
    "all_loans_df.head()"
   ]
  },
  {
   "cell_type": "markdown",
   "metadata": {},
   "source": [
    "### Q9. Integer Encoding\n",
    "\n",
    "Just as the above Integer Encoding question, create a new column called `target_int` where `Non Default` is `0` and `Default` is `1`. \n",
    "\n",
    "**Expected Output:**\n",
    "\n",
    "<img src=\"https://i.imgur.com/D0VcNAs.png\"/>"
   ]
  },
  {
   "cell_type": "code",
   "execution_count": 32,
   "metadata": {
    "scrolled": true
   },
   "outputs": [
    {
     "name": "stdout",
     "output_type": "stream",
     "text": [
      "['Non Default' 'Default']\n",
      "(200000, 23)\n"
     ]
    },
    {
     "data": {
      "text/html": [
       "<div>\n",
       "<style scoped>\n",
       "    .dataframe tbody tr th:only-of-type {\n",
       "        vertical-align: middle;\n",
       "    }\n",
       "\n",
       "    .dataframe tbody tr th {\n",
       "        vertical-align: top;\n",
       "    }\n",
       "\n",
       "    .dataframe thead th {\n",
       "        text-align: right;\n",
       "    }\n",
       "</style>\n",
       "<table border=\"1\" class=\"dataframe\">\n",
       "  <thead>\n",
       "    <tr style=\"text-align: right;\">\n",
       "      <th></th>\n",
       "      <th>loan_amnt</th>\n",
       "      <th>term</th>\n",
       "      <th>int_rate</th>\n",
       "      <th>installment</th>\n",
       "      <th>grade</th>\n",
       "      <th>emp_length</th>\n",
       "      <th>home_ownership</th>\n",
       "      <th>annual_inc</th>\n",
       "      <th>verification_status</th>\n",
       "      <th>purpose</th>\n",
       "      <th>...</th>\n",
       "      <th>term_int</th>\n",
       "      <th>grade_int</th>\n",
       "      <th>emp_length_int</th>\n",
       "      <th>home_ownership_int</th>\n",
       "      <th>verification_status_int</th>\n",
       "      <th>purpose_int</th>\n",
       "      <th>income_tax</th>\n",
       "      <th>int_round</th>\n",
       "      <th>target</th>\n",
       "      <th>target_int</th>\n",
       "    </tr>\n",
       "  </thead>\n",
       "  <tbody>\n",
       "    <tr>\n",
       "      <th>0</th>\n",
       "      <td>14400</td>\n",
       "      <td>36 months</td>\n",
       "      <td>14.47</td>\n",
       "      <td>495.46</td>\n",
       "      <td>C</td>\n",
       "      <td>10+ years</td>\n",
       "      <td>MORTGAGE</td>\n",
       "      <td>109000.0</td>\n",
       "      <td>Source Verified</td>\n",
       "      <td>debt_consolidation</td>\n",
       "      <td>...</td>\n",
       "      <td>0</td>\n",
       "      <td>2</td>\n",
       "      <td>10</td>\n",
       "      <td>0</td>\n",
       "      <td>1</td>\n",
       "      <td>1</td>\n",
       "      <td>8175.0</td>\n",
       "      <td>14</td>\n",
       "      <td>Non Default</td>\n",
       "      <td>0</td>\n",
       "    </tr>\n",
       "    <tr>\n",
       "      <th>1</th>\n",
       "      <td>8000</td>\n",
       "      <td>36 months</td>\n",
       "      <td>10.75</td>\n",
       "      <td>260.97</td>\n",
       "      <td>B</td>\n",
       "      <td>3 years</td>\n",
       "      <td>MORTGAGE</td>\n",
       "      <td>50000.0</td>\n",
       "      <td>Source Verified</td>\n",
       "      <td>credit_card</td>\n",
       "      <td>...</td>\n",
       "      <td>0</td>\n",
       "      <td>1</td>\n",
       "      <td>3</td>\n",
       "      <td>0</td>\n",
       "      <td>1</td>\n",
       "      <td>3</td>\n",
       "      <td>0.0</td>\n",
       "      <td>11</td>\n",
       "      <td>Non Default</td>\n",
       "      <td>0</td>\n",
       "    </tr>\n",
       "    <tr>\n",
       "      <th>2</th>\n",
       "      <td>9500</td>\n",
       "      <td>36 months</td>\n",
       "      <td>18.45</td>\n",
       "      <td>345.60</td>\n",
       "      <td>D</td>\n",
       "      <td>3 years</td>\n",
       "      <td>MORTGAGE</td>\n",
       "      <td>138000.0</td>\n",
       "      <td>Source Verified</td>\n",
       "      <td>credit_card</td>\n",
       "      <td>...</td>\n",
       "      <td>0</td>\n",
       "      <td>3</td>\n",
       "      <td>3</td>\n",
       "      <td>0</td>\n",
       "      <td>1</td>\n",
       "      <td>3</td>\n",
       "      <td>10350.0</td>\n",
       "      <td>18</td>\n",
       "      <td>Non Default</td>\n",
       "      <td>0</td>\n",
       "    </tr>\n",
       "    <tr>\n",
       "      <th>3</th>\n",
       "      <td>16000</td>\n",
       "      <td>60 months</td>\n",
       "      <td>18.99</td>\n",
       "      <td>414.97</td>\n",
       "      <td>D</td>\n",
       "      <td>&lt; 1 year</td>\n",
       "      <td>OWN</td>\n",
       "      <td>66000.0</td>\n",
       "      <td>Not Verified</td>\n",
       "      <td>debt_consolidation</td>\n",
       "      <td>...</td>\n",
       "      <td>1</td>\n",
       "      <td>3</td>\n",
       "      <td>0</td>\n",
       "      <td>1</td>\n",
       "      <td>2</td>\n",
       "      <td>1</td>\n",
       "      <td>4950.0</td>\n",
       "      <td>19</td>\n",
       "      <td>Non Default</td>\n",
       "      <td>0</td>\n",
       "    </tr>\n",
       "    <tr>\n",
       "      <th>4</th>\n",
       "      <td>6800</td>\n",
       "      <td>36 months</td>\n",
       "      <td>13.99</td>\n",
       "      <td>232.38</td>\n",
       "      <td>C</td>\n",
       "      <td>10+ years</td>\n",
       "      <td>MORTGAGE</td>\n",
       "      <td>63000.0</td>\n",
       "      <td>Not Verified</td>\n",
       "      <td>debt_consolidation</td>\n",
       "      <td>...</td>\n",
       "      <td>0</td>\n",
       "      <td>2</td>\n",
       "      <td>10</td>\n",
       "      <td>0</td>\n",
       "      <td>2</td>\n",
       "      <td>1</td>\n",
       "      <td>0.0</td>\n",
       "      <td>14</td>\n",
       "      <td>Non Default</td>\n",
       "      <td>0</td>\n",
       "    </tr>\n",
       "  </tbody>\n",
       "</table>\n",
       "<p>5 rows × 23 columns</p>\n",
       "</div>"
      ],
      "text/plain": [
       "   loan_amnt        term  int_rate  installment grade emp_length  \\\n",
       "0      14400   36 months     14.47       495.46     C  10+ years   \n",
       "1       8000   36 months     10.75       260.97     B    3 years   \n",
       "2       9500   36 months     18.45       345.60     D    3 years   \n",
       "3      16000   60 months     18.99       414.97     D   < 1 year   \n",
       "4       6800   36 months     13.99       232.38     C  10+ years   \n",
       "\n",
       "  home_ownership  annual_inc verification_status             purpose  ...  \\\n",
       "0       MORTGAGE    109000.0     Source Verified  debt_consolidation  ...   \n",
       "1       MORTGAGE     50000.0     Source Verified         credit_card  ...   \n",
       "2       MORTGAGE    138000.0     Source Verified         credit_card  ...   \n",
       "3            OWN     66000.0        Not Verified  debt_consolidation  ...   \n",
       "4       MORTGAGE     63000.0        Not Verified  debt_consolidation  ...   \n",
       "\n",
       "   term_int  grade_int emp_length_int  home_ownership_int  \\\n",
       "0         0          2             10                   0   \n",
       "1         0          1              3                   0   \n",
       "2         0          3              3                   0   \n",
       "3         1          3              0                   1   \n",
       "4         0          2             10                   0   \n",
       "\n",
       "   verification_status_int  purpose_int  income_tax  int_round       target  \\\n",
       "0                        1            1      8175.0         14  Non Default   \n",
       "1                        1            3         0.0         11  Non Default   \n",
       "2                        1            3     10350.0         18  Non Default   \n",
       "3                        2            1      4950.0         19  Non Default   \n",
       "4                        2            1         0.0         14  Non Default   \n",
       "\n",
       "   target_int  \n",
       "0           0  \n",
       "1           0  \n",
       "2           0  \n",
       "3           0  \n",
       "4           0  \n",
       "\n",
       "[5 rows x 23 columns]"
      ]
     },
     "execution_count": 32,
     "metadata": {},
     "output_type": "execute_result"
    }
   ],
   "source": [
    "# retrieving unique values \n",
    "print (all_loans_df['target'].unique())\n",
    "\n",
    "# defining the function to encode integers\n",
    "def int_encoder(x):\n",
    "    if x == 'Non Default':\n",
    "        return 0 \n",
    "    else:\n",
    "        return 1\n",
    "# applying the function \n",
    "target_int = all_loans_df['target'].apply(int_encoder)\n",
    "all_loans_df['target_int'] = target_int\n",
    "\n",
    "# testing \n",
    "print(all_loans_df.shape)\n",
    "all_loans_df.head()"
   ]
  },
  {
   "cell_type": "code",
   "execution_count": 33,
   "metadata": {},
   "outputs": [],
   "source": [
    "## TA/INSTRUCTOR ONLY\n",
    "## MARKS AWARDED: /1"
   ]
  },
  {
   "cell_type": "markdown",
   "metadata": {},
   "source": [
    "### Q10. Reduce to Numerical Data\n",
    "\n",
    "For K-means algorithm to work properly, your dataframe should only contain numeric datasets. Also, you decide to <b>exclude</b> (drop) the `int_round` and `income_tax` columns are similar to the other columns too. Store this dataframe as `loans_numeric_df`. \n",
    "\n",
    "**Expected Output:**\n",
    "\n",
    "<img src=\"https://i.imgur.com/80Ccldn.png\">"
   ]
  },
  {
   "cell_type": "code",
   "execution_count": 34,
   "metadata": {
    "scrolled": true
   },
   "outputs": [
    {
     "name": "stdout",
     "output_type": "stream",
     "text": [
      "(200000, 13)\n"
     ]
    },
    {
     "data": {
      "text/html": [
       "<div>\n",
       "<style scoped>\n",
       "    .dataframe tbody tr th:only-of-type {\n",
       "        vertical-align: middle;\n",
       "    }\n",
       "\n",
       "    .dataframe tbody tr th {\n",
       "        vertical-align: top;\n",
       "    }\n",
       "\n",
       "    .dataframe thead th {\n",
       "        text-align: right;\n",
       "    }\n",
       "</style>\n",
       "<table border=\"1\" class=\"dataframe\">\n",
       "  <thead>\n",
       "    <tr style=\"text-align: right;\">\n",
       "      <th></th>\n",
       "      <th>loan_amnt</th>\n",
       "      <th>int_rate</th>\n",
       "      <th>installment</th>\n",
       "      <th>annual_inc</th>\n",
       "      <th>dti</th>\n",
       "      <th>delinq_2yrs</th>\n",
       "      <th>term_int</th>\n",
       "      <th>grade_int</th>\n",
       "      <th>emp_length_int</th>\n",
       "      <th>home_ownership_int</th>\n",
       "      <th>verification_status_int</th>\n",
       "      <th>purpose_int</th>\n",
       "      <th>target_int</th>\n",
       "    </tr>\n",
       "  </thead>\n",
       "  <tbody>\n",
       "    <tr>\n",
       "      <th>0</th>\n",
       "      <td>14400</td>\n",
       "      <td>14.47</td>\n",
       "      <td>495.46</td>\n",
       "      <td>109000.0</td>\n",
       "      <td>8.52</td>\n",
       "      <td>1.0</td>\n",
       "      <td>0</td>\n",
       "      <td>2</td>\n",
       "      <td>10</td>\n",
       "      <td>0</td>\n",
       "      <td>1</td>\n",
       "      <td>1</td>\n",
       "      <td>0</td>\n",
       "    </tr>\n",
       "    <tr>\n",
       "      <th>1</th>\n",
       "      <td>8000</td>\n",
       "      <td>10.75</td>\n",
       "      <td>260.97</td>\n",
       "      <td>50000.0</td>\n",
       "      <td>17.31</td>\n",
       "      <td>0.0</td>\n",
       "      <td>0</td>\n",
       "      <td>1</td>\n",
       "      <td>3</td>\n",
       "      <td>0</td>\n",
       "      <td>1</td>\n",
       "      <td>3</td>\n",
       "      <td>0</td>\n",
       "    </tr>\n",
       "    <tr>\n",
       "      <th>2</th>\n",
       "      <td>9500</td>\n",
       "      <td>18.45</td>\n",
       "      <td>345.60</td>\n",
       "      <td>138000.0</td>\n",
       "      <td>23.91</td>\n",
       "      <td>0.0</td>\n",
       "      <td>0</td>\n",
       "      <td>3</td>\n",
       "      <td>3</td>\n",
       "      <td>0</td>\n",
       "      <td>1</td>\n",
       "      <td>3</td>\n",
       "      <td>0</td>\n",
       "    </tr>\n",
       "    <tr>\n",
       "      <th>3</th>\n",
       "      <td>16000</td>\n",
       "      <td>18.99</td>\n",
       "      <td>414.97</td>\n",
       "      <td>66000.0</td>\n",
       "      <td>33.65</td>\n",
       "      <td>0.0</td>\n",
       "      <td>1</td>\n",
       "      <td>3</td>\n",
       "      <td>0</td>\n",
       "      <td>1</td>\n",
       "      <td>2</td>\n",
       "      <td>1</td>\n",
       "      <td>0</td>\n",
       "    </tr>\n",
       "    <tr>\n",
       "      <th>4</th>\n",
       "      <td>6800</td>\n",
       "      <td>13.99</td>\n",
       "      <td>232.38</td>\n",
       "      <td>63000.0</td>\n",
       "      <td>19.68</td>\n",
       "      <td>0.0</td>\n",
       "      <td>0</td>\n",
       "      <td>2</td>\n",
       "      <td>10</td>\n",
       "      <td>0</td>\n",
       "      <td>2</td>\n",
       "      <td>1</td>\n",
       "      <td>0</td>\n",
       "    </tr>\n",
       "  </tbody>\n",
       "</table>\n",
       "</div>"
      ],
      "text/plain": [
       "   loan_amnt  int_rate  installment  annual_inc    dti  delinq_2yrs  term_int  \\\n",
       "0      14400     14.47       495.46    109000.0   8.52          1.0         0   \n",
       "1       8000     10.75       260.97     50000.0  17.31          0.0         0   \n",
       "2       9500     18.45       345.60    138000.0  23.91          0.0         0   \n",
       "3      16000     18.99       414.97     66000.0  33.65          0.0         1   \n",
       "4       6800     13.99       232.38     63000.0  19.68          0.0         0   \n",
       "\n",
       "   grade_int  emp_length_int  home_ownership_int  verification_status_int  \\\n",
       "0          2              10                   0                        1   \n",
       "1          1               3                   0                        1   \n",
       "2          3               3                   0                        1   \n",
       "3          3               0                   1                        2   \n",
       "4          2              10                   0                        2   \n",
       "\n",
       "   purpose_int  target_int  \n",
       "0            1           0  \n",
       "1            3           0  \n",
       "2            3           0  \n",
       "3            1           0  \n",
       "4            1           0  "
      ]
     },
     "execution_count": 34,
     "metadata": {},
     "output_type": "execute_result"
    }
   ],
   "source": [
    "# including only numeric columns\n",
    "numerics = ['int16', 'int32', 'int64', 'float16', 'float32', 'float64']\n",
    "loans_numeric_df = all_loans_df.select_dtypes(include=numerics)\n",
    "loans_numeric_df.drop(columns = ['int_round', 'income_tax'], inplace = True)\n",
    "\n",
    "# testing\n",
    "print(loans_numeric_df.shape)\n",
    "loans_numeric_df.head()"
   ]
  },
  {
   "cell_type": "code",
   "execution_count": 35,
   "metadata": {},
   "outputs": [],
   "source": [
    "## TA/INSTRUCTOR ONLY\n",
    "## MARKS AWARDED: /1"
   ]
  },
  {
   "cell_type": "markdown",
   "metadata": {},
   "source": [
    "### Q11. Select Optimal K - Elbow Plot\n",
    "\n",
    "Plot the elbow plot by doing multiple iterations of the k-means algorithm, between a value of <b>2 to 15 (inclusive)</b>. Select a K that you think is appropriate to carry on in the next step. \n",
    "\n",
    "<b>Note: This will take about 2 minutes to compute finish all the Ks</b>\n",
    "\n",
    "**Expected Output:**\n",
    "\n",
    "<img src=\"https://i.imgur.com/VQfZN86.png\">"
   ]
  },
  {
   "cell_type": "code",
   "execution_count": 36,
   "metadata": {},
   "outputs": [],
   "source": [
    "from sklearn.cluster import KMeans\n",
    "from matplotlib import pyplot as plt"
   ]
  },
  {
   "cell_type": "code",
   "execution_count": 37,
   "metadata": {
    "scrolled": false
   },
   "outputs": [
    {
     "data": {
      "image/png": "[encoded data removed]",
      "text/plain": [
       "<Figure size 1080x360 with 1 Axes>"
      ]
     },
     "metadata": {
      "needs_background": "light"
     },
     "output_type": "display_data"
    }
   ],
   "source": [
    "A = loans_numeric_df\n",
    "distortions = []\n",
    "for k in range(2, 16):\n",
    "    kmeans = KMeans(n_clusters = k)\n",
    "    kmeans.fit(A)\n",
    "    distortions.append(kmeans.inertia_)\n",
    "\n",
    "#  Plotting\n",
    "fig = plt.figure(figsize=(15, 5))\n",
    "plt.plot(range(2, 16), distortions)\n",
    "plt.grid(True)\n",
    "plt.title('Elbow curve')\n",
    "plt.xlabel('k') \n",
    "plt.ylabel('WSS')\n",
    "plt.show()"
   ]
  },
  {
   "cell_type": "code",
   "execution_count": 38,
   "metadata": {},
   "outputs": [],
   "source": [
    "## TA/INSTRUCTOR ONLY\n",
    "## PLOT MARK: /1"
   ]
  },
  {
   "cell_type": "markdown",
   "metadata": {},
   "source": [
    "### Q12. K-Means Clustering with Optimal K - 2 Marks\n",
    "\n",
    "Choose an <b>appropriate K</b> based on the chart above, then apply the k-means algorithm only once and store the model as `loans_kmeans`.\n",
    "\n",
    "Make sure `random_state` is 0."
   ]
  },
  {
   "cell_type": "code",
   "execution_count": 39,
   "metadata": {},
   "outputs": [
    {
     "name": "stdout",
     "output_type": "stream",
     "text": [
      "KMeans(algorithm='auto', copy_x=True, init='k-means++', max_iter=300,\n",
      "    n_clusters=8, n_init=10, n_jobs=None, precompute_distances='auto',\n",
      "    random_state=0, tol=0.0001, verbose=0)\n"
     ]
    }
   ],
   "source": [
    "K = 8\n",
    "model = KMeans (n_clusters=K, \n",
    "               random_state=0)\n",
    "loans_kmeans = model.fit(loans_numeric_df)\n",
    "\n",
    "# testing\n",
    "print(loans_kmeans)"
   ]
  },
  {
   "cell_type": "code",
   "execution_count": 40,
   "metadata": {},
   "outputs": [],
   "source": [
    "## TA/INSTRUCTOR ONLY\n",
    "## KMEANS MARK: /1\n",
    "## SELECTING AN APPROPRIATE K - MARK: /1"
   ]
  },
  {
   "cell_type": "markdown",
   "metadata": {},
   "source": [
    "### Q13. Set Labels\n",
    "\n",
    "All loans are now tagged with a particular cluster or label. Using the `.labels_` attribute, create a new column called `label` to `all_loans_df`. \n",
    "\n",
    "**Expected Output:** (for k = 8) \n",
    "\n",
    "<img src=\"https://i.imgur.com/uKpialC.png\">"
   ]
  },
  {
   "cell_type": "code",
   "execution_count": 41,
   "metadata": {},
   "outputs": [
    {
     "data": {
      "text/html": [
       "<div>\n",
       "<style scoped>\n",
       "    .dataframe tbody tr th:only-of-type {\n",
       "        vertical-align: middle;\n",
       "    }\n",
       "\n",
       "    .dataframe tbody tr th {\n",
       "        vertical-align: top;\n",
       "    }\n",
       "\n",
       "    .dataframe thead th {\n",
       "        text-align: right;\n",
       "    }\n",
       "</style>\n",
       "<table border=\"1\" class=\"dataframe\">\n",
       "  <thead>\n",
       "    <tr style=\"text-align: right;\">\n",
       "      <th></th>\n",
       "      <th>loan_amnt</th>\n",
       "      <th>term</th>\n",
       "      <th>int_rate</th>\n",
       "      <th>installment</th>\n",
       "      <th>grade</th>\n",
       "      <th>emp_length</th>\n",
       "      <th>home_ownership</th>\n",
       "      <th>annual_inc</th>\n",
       "      <th>verification_status</th>\n",
       "      <th>purpose</th>\n",
       "      <th>...</th>\n",
       "      <th>grade_int</th>\n",
       "      <th>emp_length_int</th>\n",
       "      <th>home_ownership_int</th>\n",
       "      <th>verification_status_int</th>\n",
       "      <th>purpose_int</th>\n",
       "      <th>income_tax</th>\n",
       "      <th>int_round</th>\n",
       "      <th>target</th>\n",
       "      <th>target_int</th>\n",
       "      <th>label</th>\n",
       "    </tr>\n",
       "  </thead>\n",
       "  <tbody>\n",
       "    <tr>\n",
       "      <th>0</th>\n",
       "      <td>14400</td>\n",
       "      <td>36 months</td>\n",
       "      <td>14.47</td>\n",
       "      <td>495.46</td>\n",
       "      <td>C</td>\n",
       "      <td>10+ years</td>\n",
       "      <td>MORTGAGE</td>\n",
       "      <td>109000.0</td>\n",
       "      <td>Source Verified</td>\n",
       "      <td>debt_consolidation</td>\n",
       "      <td>...</td>\n",
       "      <td>2</td>\n",
       "      <td>10</td>\n",
       "      <td>0</td>\n",
       "      <td>1</td>\n",
       "      <td>1</td>\n",
       "      <td>8175.0</td>\n",
       "      <td>14</td>\n",
       "      <td>Non Default</td>\n",
       "      <td>0</td>\n",
       "      <td>2</td>\n",
       "    </tr>\n",
       "    <tr>\n",
       "      <th>1</th>\n",
       "      <td>8000</td>\n",
       "      <td>36 months</td>\n",
       "      <td>10.75</td>\n",
       "      <td>260.97</td>\n",
       "      <td>B</td>\n",
       "      <td>3 years</td>\n",
       "      <td>MORTGAGE</td>\n",
       "      <td>50000.0</td>\n",
       "      <td>Source Verified</td>\n",
       "      <td>credit_card</td>\n",
       "      <td>...</td>\n",
       "      <td>1</td>\n",
       "      <td>3</td>\n",
       "      <td>0</td>\n",
       "      <td>1</td>\n",
       "      <td>3</td>\n",
       "      <td>0.0</td>\n",
       "      <td>11</td>\n",
       "      <td>Non Default</td>\n",
       "      <td>0</td>\n",
       "      <td>0</td>\n",
       "    </tr>\n",
       "    <tr>\n",
       "      <th>2</th>\n",
       "      <td>9500</td>\n",
       "      <td>36 months</td>\n",
       "      <td>18.45</td>\n",
       "      <td>345.60</td>\n",
       "      <td>D</td>\n",
       "      <td>3 years</td>\n",
       "      <td>MORTGAGE</td>\n",
       "      <td>138000.0</td>\n",
       "      <td>Source Verified</td>\n",
       "      <td>credit_card</td>\n",
       "      <td>...</td>\n",
       "      <td>3</td>\n",
       "      <td>3</td>\n",
       "      <td>0</td>\n",
       "      <td>1</td>\n",
       "      <td>3</td>\n",
       "      <td>10350.0</td>\n",
       "      <td>18</td>\n",
       "      <td>Non Default</td>\n",
       "      <td>0</td>\n",
       "      <td>2</td>\n",
       "    </tr>\n",
       "    <tr>\n",
       "      <th>3</th>\n",
       "      <td>16000</td>\n",
       "      <td>60 months</td>\n",
       "      <td>18.99</td>\n",
       "      <td>414.97</td>\n",
       "      <td>D</td>\n",
       "      <td>&lt; 1 year</td>\n",
       "      <td>OWN</td>\n",
       "      <td>66000.0</td>\n",
       "      <td>Not Verified</td>\n",
       "      <td>debt_consolidation</td>\n",
       "      <td>...</td>\n",
       "      <td>3</td>\n",
       "      <td>0</td>\n",
       "      <td>1</td>\n",
       "      <td>2</td>\n",
       "      <td>1</td>\n",
       "      <td>4950.0</td>\n",
       "      <td>19</td>\n",
       "      <td>Non Default</td>\n",
       "      <td>0</td>\n",
       "      <td>7</td>\n",
       "    </tr>\n",
       "    <tr>\n",
       "      <th>4</th>\n",
       "      <td>6800</td>\n",
       "      <td>36 months</td>\n",
       "      <td>13.99</td>\n",
       "      <td>232.38</td>\n",
       "      <td>C</td>\n",
       "      <td>10+ years</td>\n",
       "      <td>MORTGAGE</td>\n",
       "      <td>63000.0</td>\n",
       "      <td>Not Verified</td>\n",
       "      <td>debt_consolidation</td>\n",
       "      <td>...</td>\n",
       "      <td>2</td>\n",
       "      <td>10</td>\n",
       "      <td>0</td>\n",
       "      <td>2</td>\n",
       "      <td>1</td>\n",
       "      <td>0.0</td>\n",
       "      <td>14</td>\n",
       "      <td>Non Default</td>\n",
       "      <td>0</td>\n",
       "      <td>7</td>\n",
       "    </tr>\n",
       "  </tbody>\n",
       "</table>\n",
       "<p>5 rows × 24 columns</p>\n",
       "</div>"
      ],
      "text/plain": [
       "   loan_amnt        term  int_rate  installment grade emp_length  \\\n",
       "0      14400   36 months     14.47       495.46     C  10+ years   \n",
       "1       8000   36 months     10.75       260.97     B    3 years   \n",
       "2       9500   36 months     18.45       345.60     D    3 years   \n",
       "3      16000   60 months     18.99       414.97     D   < 1 year   \n",
       "4       6800   36 months     13.99       232.38     C  10+ years   \n",
       "\n",
       "  home_ownership  annual_inc verification_status             purpose  ...  \\\n",
       "0       MORTGAGE    109000.0     Source Verified  debt_consolidation  ...   \n",
       "1       MORTGAGE     50000.0     Source Verified         credit_card  ...   \n",
       "2       MORTGAGE    138000.0     Source Verified         credit_card  ...   \n",
       "3            OWN     66000.0        Not Verified  debt_consolidation  ...   \n",
       "4       MORTGAGE     63000.0        Not Verified  debt_consolidation  ...   \n",
       "\n",
       "   grade_int  emp_length_int home_ownership_int  verification_status_int  \\\n",
       "0          2              10                  0                        1   \n",
       "1          1               3                  0                        1   \n",
       "2          3               3                  0                        1   \n",
       "3          3               0                  1                        2   \n",
       "4          2              10                  0                        2   \n",
       "\n",
       "   purpose_int  income_tax  int_round       target  target_int  label  \n",
       "0            1      8175.0         14  Non Default           0      2  \n",
       "1            3         0.0         11  Non Default           0      0  \n",
       "2            3     10350.0         18  Non Default           0      2  \n",
       "3            1      4950.0         19  Non Default           0      7  \n",
       "4            1         0.0         14  Non Default           0      7  \n",
       "\n",
       "[5 rows x 24 columns]"
      ]
     },
     "execution_count": 41,
     "metadata": {},
     "output_type": "execute_result"
    }
   ],
   "source": [
    "all_loans_df['label'] = loans_kmeans.labels_\n",
    "# testing \n",
    "all_loans_df.head()"
   ]
  },
  {
   "cell_type": "code",
   "execution_count": 42,
   "metadata": {},
   "outputs": [],
   "source": [
    "## TA/INSTRUCTOR ONLY\n",
    "## MARKS AWARDED: /1"
   ]
  },
  {
   "cell_type": "markdown",
   "metadata": {},
   "source": [
    "### Q14. Clustering Analysis\n",
    "\n",
    "Now that you've labelled each loans, you want know the <b>proportion of default loans</b> within each cluster\n",
    "\n",
    "**Expected Output:** (for k = 8) \n",
    "\n",
    "    label  target     \n",
    "    0      Default        0.133062\n",
    "           Non Default    0.866938\n",
    "    1      Non Default    1.000000\n",
    "    2      Default        0.090717\n",
    "           Non Default    0.909283\n",
    "    3      Default        0.055154\n",
    "           Non Default    0.944846\n",
    "    4      Default        0.090909\n",
    "           Non Default    0.909091\n",
    "    5      Default        0.078544\n",
    "           Non Default    0.921456\n",
    "    6      Default        0.062500\n",
    "           Non Default    0.937500\n",
    "    7      Default        0.113032\n",
    "           Non Default    0.886968\n",
    "    dtype: float64"
   ]
  },
  {
   "cell_type": "code",
   "execution_count": 43,
   "metadata": {
    "scrolled": true
   },
   "outputs": [
    {
     "name": "stdout",
     "output_type": "stream",
     "text": [
      "label  target     \n",
      "0      Default        0.133062\n",
      "       Non Default    0.866938\n",
      "1      Non Default    1.000000\n",
      "2      Default        0.090717\n",
      "       Non Default    0.909283\n",
      "3      Default        0.055154\n",
      "       Non Default    0.944846\n",
      "4      Default        0.090909\n",
      "       Non Default    0.909091\n",
      "5      Default        0.078544\n",
      "       Non Default    0.921456\n",
      "6      Default        0.062500\n",
      "       Non Default    0.937500\n",
      "7      Default        0.113032\n",
      "       Non Default    0.886968\n",
      "dtype: float64\n"
     ]
    }
   ],
   "source": [
    "loans_df_total_gb = all_loans_df.groupby('label')\n",
    "loans_df_gb = all_loans_df.groupby(['label', 'target'])\n",
    "\n",
    "# retrieving the proportion \n",
    "total_size = loans_df_total_gb.size()\n",
    "target_size = loans_df_gb.size()\n",
    "prop_size = target_size/total_size\n",
    "\n",
    "# testing \n",
    "print(prop_size)"
   ]
  },
  {
   "cell_type": "code",
   "execution_count": 44,
   "metadata": {},
   "outputs": [],
   "source": [
    "## TA/INSTRUCTOR ONLY\n",
    "## MARKS AWARDED: /1"
   ]
  },
  {
   "cell_type": "markdown",
   "metadata": {},
   "source": [
    "## Decision Tree Classifier - 3 marks\n",
    "\n",
    "### Q15. Train Test Split\n",
    "\n",
    "Similar to how you did `train_test_split` on the Decision Tree Classifier, conduct `train_test_split` on the `loans_numeric_df`, into 4 different variables, `x_train`, `x_test`, `y_train` and `y_test`, where: \n",
    "\n",
    "- <b>first</b> argument should be all columns but <b>without</b> the `target_int` column as a <b>DataFrame</b>\n",
    "- <b>second</b> argument should <b>only</b> be the `target_int` column\n",
    "- `random_state` is 0\n",
    "- `test_size` is 0.2"
   ]
  },
  {
   "cell_type": "code",
   "execution_count": 45,
   "metadata": {},
   "outputs": [],
   "source": [
    "x_var = loans_numeric_df.drop(['target_int'], axis=1)\n",
    "y_var = loans_numeric_df['target_int']\n",
    "\n",
    "x_train, x_test, y_train, y_test = train_test_split(x_var, y_var, \n",
    "                                                    random_state = 0, \n",
    "                                                    test_size = 0.2)"
   ]
  },
  {
   "cell_type": "code",
   "execution_count": 46,
   "metadata": {},
   "outputs": [],
   "source": [
    "## TA/INSTRUCTOR ONLY\n",
    "## MARKS AWARDED: /1"
   ]
  },
  {
   "cell_type": "markdown",
   "metadata": {},
   "source": [
    "### Q16. Fit DecisionTree\n",
    "\n",
    "Using the `DecisionTreeClassifier`, create a new Decision Tree by using `.fit()` with the `x_train` and `y_train` variables. Name this classifier as `loans_clf`. \n",
    "\n",
    "<b>Note: `random_state` should be `0`.</b>"
   ]
  },
  {
   "cell_type": "code",
   "execution_count": 47,
   "metadata": {},
   "outputs": [
    {
     "data": {
      "text/plain": [
       "DecisionTreeClassifier(class_weight=None, criterion='gini', max_depth=None,\n",
       "            max_features=None, max_leaf_nodes=None,\n",
       "            min_impurity_decrease=0.0, min_impurity_split=None,\n",
       "            min_samples_leaf=1, min_samples_split=2,\n",
       "            min_weight_fraction_leaf=0.0, presort=False, random_state=0,\n",
       "            splitter='best')"
      ]
     },
     "execution_count": 47,
     "metadata": {},
     "output_type": "execute_result"
    }
   ],
   "source": [
    "from sklearn.tree import DecisionTreeClassifier\n",
    "dtc = DecisionTreeClassifier(random_state = 0)\n",
    "loans_clf = dtc.fit(x_train, y_train)\n",
    "# testing \n",
    "loans_clf"
   ]
  },
  {
   "cell_type": "code",
   "execution_count": 48,
   "metadata": {},
   "outputs": [],
   "source": [
    "## TA/INSTRUCTOR ONLY\n",
    "## MARKS AWARDED: /1"
   ]
  },
  {
   "cell_type": "markdown",
   "metadata": {},
   "source": [
    "### Q17. Confusion Matrix\n",
    "\n",
    "Plot the confusion matrix for the decision tree classifier by:\n",
    "\n",
    "1. Using `.predict` on the `x_test` to get the test results\n",
    "2. Use `sns.heatmap` to create confusion matrix\n",
    "3. Set `.ylim()` to (2,0)\n",
    "4. Set `.xlim()` to (0,2)\n",
    "\n",
    "**Expected Output:**\n",
    "\n",
    "<img src=\"https://i.imgur.com/JCRqzHp.png\">"
   ]
  },
  {
   "cell_type": "code",
   "execution_count": 49,
   "metadata": {},
   "outputs": [],
   "source": [
    "import seaborn as sns\n",
    "from sklearn.metrics import confusion_matrix"
   ]
  },
  {
   "cell_type": "code",
   "execution_count": 50,
   "metadata": {
    "scrolled": true
   },
   "outputs": [
    {
     "data": {
      "image/png": "[encoded data removed]",
      "text/plain": [
       "<Figure size 576x360 with 2 Axes>"
      ]
     },
     "metadata": {
      "needs_background": "light"
     },
     "output_type": "display_data"
    }
   ],
   "source": [
    "test_results = loans_clf.predict(x_test)\n",
    "\n",
    "test_dt_cm = confusion_matrix(y_test, test_results)\n",
    "\n",
    "# plotting \n",
    "fig = plt.figure(figsize = (8,5))\n",
    "# ax1 = fig.add_subplot(1,1,1)\n",
    "\n",
    "ax = sns.heatmap(test_dt_cm , \n",
    "            annot =True,\n",
    "            fmt = '.0f')\n",
    "ax.set(title = 'Confusion Matrix of Decision Tree Classification of Loans', \n",
    "         xlabel = 'Predicted', \n",
    "         ylabel = 'Actual', \n",
    "         xlim = (0,2), \n",
    "         ylim = (2,0))\n",
    "plt.show()"
   ]
  },
  {
   "cell_type": "code",
   "execution_count": 51,
   "metadata": {},
   "outputs": [],
   "source": [
    "## TA/INSTRUCTOR ONLY\n",
    "## MARKS AWARDED: /1"
   ]
  },
  {
   "cell_type": "markdown",
   "metadata": {},
   "source": [
    "## Performance Measures - 2 marks\n",
    "\n",
    "### Q18. Accuracy & Precision\n",
    "\n",
    "Based on the above confusion matrices, calculate, <b>with workings</b>, the <b>Accuracy and Precision</b> for the:\n",
    "\n",
    "1. Naive Bayes Classifier\n",
    "2. Decision Tree Classifier"
   ]
  },
  {
   "cell_type": "code",
   "execution_count": 1,
   "metadata": {},
   "outputs": [
    {
     "ename": "NameError",
     "evalue": "name 'test_nb_cm' is not defined",
     "output_type": "error",
     "traceback": [
      "\u001b[1;31m---------------------------------------------------------------------------\u001b[0m",
      "\u001b[1;31mNameError\u001b[0m                                 Traceback (most recent call last)",
      "\u001b[1;32m<ipython-input-1-780826e978d8>\u001b[0m in \u001b[0;36m<module>\u001b[1;34m\u001b[0m\n\u001b[0;32m      4\u001b[0m \u001b[1;33m\u001b[0m\u001b[0m\n\u001b[0;32m      5\u001b[0m \u001b[1;31m# NAIVE BAYES CLASSIFIER #test_nb_cm\u001b[0m\u001b[1;33m\u001b[0m\u001b[1;33m\u001b[0m\u001b[1;33m\u001b[0m\u001b[0m\n\u001b[1;32m----> 6\u001b[1;33m \u001b[0mnb_accuracy\u001b[0m \u001b[1;33m=\u001b[0m \u001b[1;33m(\u001b[0m\u001b[0mtest_nb_cm\u001b[0m\u001b[1;33m[\u001b[0m\u001b[1;36m1\u001b[0m\u001b[1;33m]\u001b[0m\u001b[1;33m[\u001b[0m\u001b[1;36m1\u001b[0m\u001b[1;33m]\u001b[0m \u001b[1;33m+\u001b[0m \u001b[0mtest_nb_cm\u001b[0m\u001b[1;33m[\u001b[0m\u001b[1;36m0\u001b[0m\u001b[1;33m]\u001b[0m\u001b[1;33m[\u001b[0m\u001b[1;36m0\u001b[0m\u001b[1;33m]\u001b[0m\u001b[1;33m)\u001b[0m\u001b[1;33m/\u001b[0m\u001b[0msum\u001b[0m\u001b[1;33m(\u001b[0m\u001b[0msum\u001b[0m\u001b[1;33m(\u001b[0m\u001b[0mtest_nb_cm\u001b[0m\u001b[1;33m)\u001b[0m\u001b[1;33m)\u001b[0m\u001b[1;33m\u001b[0m\u001b[1;33m\u001b[0m\u001b[0m\n\u001b[0m\u001b[0;32m      7\u001b[0m \u001b[0mprint\u001b[0m\u001b[1;33m(\u001b[0m\u001b[1;34m'Accuracy of Naive Bayes Classifier is: '\u001b[0m\u001b[1;33m,\u001b[0m \u001b[0mnb_accuracy\u001b[0m\u001b[1;33m)\u001b[0m\u001b[1;33m\u001b[0m\u001b[1;33m\u001b[0m\u001b[0m\n\u001b[0;32m      8\u001b[0m \u001b[0mnb_precision\u001b[0m \u001b[1;33m=\u001b[0m \u001b[0mtest_nb_cm\u001b[0m\u001b[1;33m[\u001b[0m\u001b[1;36m1\u001b[0m\u001b[1;33m]\u001b[0m\u001b[1;33m[\u001b[0m\u001b[1;36m1\u001b[0m\u001b[1;33m]\u001b[0m\u001b[1;33m/\u001b[0m\u001b[1;33m(\u001b[0m\u001b[0mtest_nb_cm\u001b[0m\u001b[1;33m[\u001b[0m\u001b[1;36m1\u001b[0m\u001b[1;33m]\u001b[0m\u001b[1;33m[\u001b[0m\u001b[1;36m1\u001b[0m\u001b[1;33m]\u001b[0m \u001b[1;33m+\u001b[0m \u001b[0mtest_nb_cm\u001b[0m\u001b[1;33m[\u001b[0m\u001b[1;36m0\u001b[0m\u001b[1;33m]\u001b[0m\u001b[1;33m[\u001b[0m\u001b[1;36m1\u001b[0m\u001b[1;33m]\u001b[0m\u001b[1;33m)\u001b[0m\u001b[1;33m\u001b[0m\u001b[1;33m\u001b[0m\u001b[0m\n",
      "\u001b[1;31mNameError\u001b[0m: name 'test_nb_cm' is not defined"
     ]
    }
   ],
   "source": [
    "# Formula for calculating accuracy and precision\n",
    "# Accuracy = (TP + TN) / (TP + TN + FP + FN)\n",
    "# Precision = TP/(TP + FP)\n",
    "\n",
    "# NAIVE BAYES CLASSIFIER #test_nb_cm\n",
    "nb_accuracy = (test_nb_cm[1][1] + test_nb_cm[0][0])/sum(sum(test_nb_cm))\n",
    "print('Accuracy of Naive Bayes Classifier is: ', nb_accuracy)\n",
    "nb_precision = test_nb_cm[1][1]/(test_nb_cm[1][1] + test_nb_cm[0][1])\n",
    "print('Precision of Naive Bayes Classifier is: ', nb_precision)\n",
    "\n",
    "# DECISION TREE #test_dt_cm\n",
    "dt_accuracy = (test_dt_cm[1][1]+test_dt_cm[0][0])/sum(sum(test_dt_cm))\n",
    "print('Accuracy of Decision Tree Classifier is: ', dt_accuracy)\n",
    "dt_precision = test_dt_cm[1][1]/(test_dt_cm[1][1] + test_dt_cm[0][1])\n",
    "print('Precision of Decision Tree Classifier is: ', dt_precision)"
   ]
  },
  {
   "cell_type": "code",
   "execution_count": 53,
   "metadata": {},
   "outputs": [],
   "source": [
    "## TA/INSTRUCTOR ONLY\n",
    "## MARKS AWARDED: /1"
   ]
  },
  {
   "cell_type": "markdown",
   "metadata": {},
   "source": [
    "### Q19. Model Assessment\n",
    "\n",
    "After assessing the accuracy and precision scores, do you think that the models above are reliable in detecting default loans? Explain your answer.  "
   ]
  },
  {
   "cell_type": "code",
   "execution_count": 54,
   "metadata": {},
   "outputs": [
    {
     "name": "stdout",
     "output_type": "stream",
     "text": [
      "target_int\n",
      "0    88.2725\n",
      "1    11.7275\n",
      "dtype: float64\n"
     ]
    }
   ],
   "source": [
    "target_gb = all_loans_df.groupby('target_int')\n",
    "target_gb.size()\n",
    "total_size = len(all_loans_df.index)\n",
    "target_prop = target_gb.size()/total_size\n",
    "print(target_prop*100)"
   ]
  },
  {
   "cell_type": "code",
   "execution_count": 55,
   "metadata": {},
   "outputs": [],
   "source": [
    "# Answer: The models are NOT very reliable in detecting default loans. While both the models have a decent accuracy score \n",
    "# of over 80%, they have poor precision scores. \n",
    "# In a predictive model, precision scores are a better indicator of \n",
    "# reliability than accuracy scores. This is because the accuracy scores are affected by the initial (or general) \n",
    "# probability of defaulting. In this instance, the tendency to default on any given loan is about 12%, which means \n",
    "# in a set of 100 loans, 12 loans are in default.\n",
    "# If there is a faulty predictor that identifies whether loans will be repaid and (faultily) only identifies \n",
    "# that all loans would be repaid, its accuracy score would be around 0.88 \n",
    "# (because it would only return 12 false positives out of the other 88 true positives) but its precision would be 0.\n",
    "# On the other hand, the precision score measures the following: of all the positives that\n",
    "# the classifier has returned ('Classified Positives'),the probability that the Classified Positive is,\n",
    "# in fact, a true positive. It is therefore a preferred metric of reliability. In this case,\n",
    "# both the models have subpar scores"
   ]
  },
  {
   "cell_type": "code",
   "execution_count": 56,
   "metadata": {},
   "outputs": [],
   "source": [
    "## TA/INSTRUCTOR ONLY\n",
    "## MARKS AWARDED: /1"
   ]
  },
  {
   "cell_type": "markdown",
   "metadata": {},
   "source": [
    "<div class=\"alert alert-success\">\n",
    "<b>Checkpoint</b>: When you have completed, upload your progress to eLearn. eLearn only accepts the latest notebooks so if you have an existing notebook, your latest upload will <b>override</b> it.\n",
    "</div>"
   ]
  }
 ],
 "metadata": {
  "kernelspec": {
   "display_name": "Python 3",
   "language": "python",
   "name": "python3"
  },
  "language_info": {
   "codemirror_mode": {
    "name": "ipython",
    "version": 3
   },
   "file_extension": ".py",
   "mimetype": "text/x-python",
   "name": "python",
   "nbconvert_exporter": "python",
   "pygments_lexer": "ipython3",
   "version": "3.7.3"
  }
 },
 "nbformat": 4,
 "nbformat_minor": 2
}
