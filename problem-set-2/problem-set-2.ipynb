{
 "cells": [
  {
   "cell_type": "markdown",
   "metadata": {},
   "source": [
    "<img src=\"https://i2.wp.com/hackwagon.com/wp-content/uploads/2017/02/Logo-Web-Export.png?ssl=1\" width=200/>\n",
    "\n",
    "<h1>Hackwagon Academy DS102 - Problem Set 2</h1>\n",
    "<hr>\n",
    "\n",
    "This Problem Set consists of 10 questions, with 2 parts: \n",
    "\n",
    "1. Data Wrangling & Preprocessing - 5 Questions, 1 mark each\n",
    "2. Data Visualisation - 5 Questions, 3 marks each\n",
    "\n",
    "If you have any questions to the Problem Set, feel free to send a message to your TAs or Instructors in the Telegram chat. You are encouraged to also discuss the problem sets within your own groups. \n",
    "\n",
    "Before you seek help, please consider looking at online resources such as documentations and try out those solutions first. This will greatly enhance your learning experience. Being stuck is part of the learning experience so don't worry!\n",
    "\n",
    "<b>There are many ways to get to the right answer. Attempt but minor syntax errors are awarded half the mark.</b>"
   ]
  },
  {
   "cell_type": "code",
   "execution_count": null,
   "metadata": {},
   "outputs": [],
   "source": [
    "#Before you start, please perform the following 2 steps:\n",
    "#1. Rename the file to FirstName_LastName Hackwagon Academy DS102 - Problem Set 2 e.g. John_Doe Hackwagon Academy DS102 - Problem Set 1\n",
    "\n",
    "#2. Fill in your details here:\n",
    "#Name                    : _______________________\n",
    "\n",
    "#Start of Course Class(Edit accordingly): __7 Jul 2018 3.15pm____\n",
    "\n",
    "# FOR TA/INSTRUCTOR \n",
    "# Total Marks:  / 20"
   ]
  },
  {
   "cell_type": "markdown",
   "metadata": {},
   "source": [
    "#### Credits \n",
    "\n",
    "This problem set is inspired by the [Lending Club Loan Data](https://www.kaggle.com/wendykan/lending-club-loan-data). "
   ]
  },
  {
   "cell_type": "markdown",
   "metadata": {},
   "source": [
    "<img src=\"https://d1ic4altzx8ueg.cloudfront.net/niche-builder/5cb94cef96518.png\" width=300>\n",
    "\n",
    "## Context \n",
    "\n",
    "LendingClub is a US peer-to-peer lending company, headquartered in San Francisco, California. It was the first peer-to-peer lender to register its offerings as securities with the Securities and Exchange Commission (SEC), and to offer loan trading on a secondary market. \n",
    "\n",
    "Having just joined their Data Science team, your first project is to help LendingClub prepare a prediction model to help them detect loan defaulters. Before attempting to create a model, you would first have to understand data you're working with. \n",
    "\n",
    "Having already conducted the initial data preprocessing (in PS1), your project manager, Silver, wants you to further analyse the data, this time on larger sample (`loans-200k.csv`). Based on your initial investigation, you've found out that the number of default loans is dependent on the grade of the loan. However, you believe that this analysis is insufficient, therefore you will be exploring several visualisation techniques to aid you in your analysis. \n",
    "\n",
    "The dataset handed to you are loans issued through 2007 - 2015 period including loan status. A data dictionary (`LCDataDictionary`) is also provided for you to get a better understanding of the dataset. \n",
    "\n",
    "Note: This problem set tackles both <b>Data Preprocessing and Descriptive Analytics</b> stages of the Data Science project.  "
   ]
  },
  {
   "cell_type": "markdown",
   "metadata": {},
   "source": [
    "## Data Wrangling & Preprocessing - 5 marks\n",
    "\n",
    "Your first task as an analyst is to prepare the data into several different \"sets\". Using Pandas, "
   ]
  },
  {
   "cell_type": "code",
   "execution_count": null,
   "metadata": {},
   "outputs": [],
   "source": [
    "# Run this cell to remove the warning messages that could appear during your data cleaning\n",
    "import warnings\n",
    "warnings.filterwarnings('ignore')"
   ]
  },
  {
   "cell_type": "markdown",
   "metadata": {},
   "source": [
    "### Q1. Open File and Inspect\n",
    "\n",
    "Open the file `loans-200k.csv` and store it as `all_loans_df`. Afterwhich, inspect the dataset for:\n",
    "\n",
    "1. Number of rows and columns\n",
    "2. Which columns contain missing values and how many missing values are there for each column"
   ]
  },
  {
   "cell_type": "code",
   "execution_count": null,
   "metadata": {},
   "outputs": [],
   "source": [
    "# Code here\n",
    "\n",
    "\n",
    "\n",
    "# Qns1\n",
    "\n",
    "\n",
    "# Qns2 - column name - number of missing values\n"
   ]
  },
  {
   "cell_type": "code",
   "execution_count": null,
   "metadata": {},
   "outputs": [],
   "source": [
    "## TA/INSTRUCTOR ONLY\n",
    "## MARKS AWARDED: /1"
   ]
  },
  {
   "cell_type": "markdown",
   "metadata": {},
   "source": [
    "### Q2. Fill NA Values\n",
    "\n",
    "Based on the above findings, you decided to fill all the missing values for columns `dti` and `delinq_2yrs`. \n",
    "\n",
    "For `dti`, you want to fill the missing values with the <b>mean</b> of the `dti` column.\n",
    "For `delinq_2yrs`, you want to fill the missing values with `0`."
   ]
  },
  {
   "cell_type": "code",
   "execution_count": null,
   "metadata": {},
   "outputs": [],
   "source": []
  },
  {
   "cell_type": "code",
   "execution_count": null,
   "metadata": {},
   "outputs": [],
   "source": [
    "## TA/INSTRUCTOR ONLY\n",
    "## MARKS AWARDED: /1"
   ]
  },
  {
   "cell_type": "markdown",
   "metadata": {},
   "source": [
    "### Q3. Round to Integer\n",
    "\n",
    "To simplify the analysis for interest rate in the `int_rate` column, you decide that you would round the rates to <b>the nearerest integer</b>, by creating a new column called `int_round`. \n",
    "\n",
    "<i>Hint: Use the apply method</i>\n",
    "\n",
    "<b>Expected Output:</b>\n",
    "\n",
    "<img src=\"https://i.imgur.com/re1G9A8.png\">"
   ]
  },
  {
   "cell_type": "code",
   "execution_count": null,
   "metadata": {},
   "outputs": [],
   "source": []
  },
  {
   "cell_type": "code",
   "execution_count": null,
   "metadata": {},
   "outputs": [],
   "source": [
    "## TA/INSTRUCTOR ONLY\n",
    "## MARKS AWARDED: /1"
   ]
  },
  {
   "cell_type": "markdown",
   "metadata": {},
   "source": [
    "### Q4. Prepare Target Column\n",
    "\n",
    "After inspecting the `loan_status` column, you realised that there are 9 unique values. To simplify your analysis, you decided that there should only be 2 unique values: `Default` and `Not Default`. You decide to create a new column called `target`, which would be used in your machine learning model. \n",
    "\n",
    "To create this column, you decide that <b>if</b> the value contains the word `Charged Off` or `Status:Charged Off`, it will be `Default`; <b>else</b> it will be `Non Default`.\n",
    "\n",
    "<i>Hint: Use the apply method</i>\n",
    "\n",
    "<b>Expected Output:</b>\n",
    "\n",
    "<img src=\"https://i.imgur.com/bmYrw9d.png\">\n"
   ]
  },
  {
   "cell_type": "code",
   "execution_count": null,
   "metadata": {},
   "outputs": [],
   "source": [
    "# For your function\n",
    "def "
   ]
  },
  {
   "cell_type": "code",
   "execution_count": null,
   "metadata": {},
   "outputs": [],
   "source": [
    "# For creating a new column \n"
   ]
  },
  {
   "cell_type": "code",
   "execution_count": null,
   "metadata": {},
   "outputs": [],
   "source": [
    "## TA/INSTRUCTOR ONLY\n",
    "## MARKS AWARDED: /1"
   ]
  },
  {
   "cell_type": "markdown",
   "metadata": {},
   "source": [
    "### Q5. Save CSV\n",
    "\n",
    "Save the transformed dataset as a new CSV file as `loans_transformed-200k.csv`. "
   ]
  },
  {
   "cell_type": "code",
   "execution_count": null,
   "metadata": {},
   "outputs": [],
   "source": []
  },
  {
   "cell_type": "code",
   "execution_count": null,
   "metadata": {},
   "outputs": [],
   "source": [
    "## TA/INSTRUCTOR ONLY\n",
    "## MARKS AWARDED: /1"
   ]
  },
  {
   "cell_type": "markdown",
   "metadata": {},
   "source": [
    "## Visualisation - 15 marks\n",
    "\n",
    "There are a total of 3 sections for each of the next 5 questions/cells where <b>each correct section is awarded 1 mark</b>:\n",
    "\n",
    "- Section 1 - Prepare Data\n",
    "- Section 2 - Visualise (<b>You must have the appropriate Title, X and Y labels to be awarded full point for visualisation</b>)\n",
    "- Section 3 - Save Figure"
   ]
  },
  {
   "cell_type": "markdown",
   "metadata": {},
   "source": [
    "### Question 6 - Proportion of Default Loans for Each Grade\n",
    "\n",
    "You want to visually analyse how many loans are defaulted for each grade in a barchart. "
   ]
  },
  {
   "cell_type": "markdown",
   "metadata": {},
   "source": [
    "### Section 1 - Prepare Data\n",
    "\n",
    "Similar to Q18 of PSet 1, you want to get the proportion of `Default` loans for each grade. \n",
    "\n",
    "1. Create 2 variables/series using `groupby`: \n",
    "    - A: Total loans of each grade, \n",
    "    - B: Default loans for each grade\n",
    "2. Create a series where it B / A \n",
    "\n",
    "<b>Expected Output:</b>\n",
    "\n",
    "    grade\n",
    "    A    0.031707\n",
    "    B    0.078366\n",
    "    C    0.129419\n",
    "    D    0.181944\n",
    "    E    0.271083\n",
    "    F    0.346859\n",
    "    G    0.370010\n",
    "    dtype: float64"
   ]
  },
  {
   "cell_type": "code",
   "execution_count": null,
   "metadata": {
    "scrolled": true
   },
   "outputs": [],
   "source": []
  },
  {
   "cell_type": "markdown",
   "metadata": {},
   "source": [
    "### Section 2 & 3 - Visualise and Save Figure\n",
    "\n",
    "Visualise the expected bar chart using the above Series and save it as `default_loans_proportion.png`.\n",
    "\n",
    "\n",
    "<b>Expected Output:</b>\n",
    "\n",
    "<img src=\"https://i.imgur.com/c9YRxjp.png\">"
   ]
  },
  {
   "cell_type": "code",
   "execution_count": null,
   "metadata": {},
   "outputs": [],
   "source": [
    "# -------------- #\n",
    "### SECTION 2 ###\n",
    "## VISUALISE ## \n",
    "# -------------- #\n",
    "\n",
    "\n",
    "# -------------- #\n",
    "### SECTION 3 ###\n",
    "## SAVE FIGURE ## \n",
    "# -------------- #\n",
    "\n"
   ]
  },
  {
   "cell_type": "code",
   "execution_count": null,
   "metadata": {},
   "outputs": [],
   "source": [
    "## TA/INSTRUCTOR ONLY\n",
    "## SECTION 1: /1\n",
    "## SECTION 2: /1\n",
    "## SECTION 3: /1"
   ]
  },
  {
   "cell_type": "markdown",
   "metadata": {},
   "source": [
    "### Question 7 - Proportion of 36 months vs. 60 months loans for each grade \n",
    "\n",
    "You would like to investigate the proportion of loans for each grade based on their. terms."
   ]
  },
  {
   "cell_type": "markdown",
   "metadata": {},
   "source": [
    "### Section 1 - Prepare Data\n",
    "\n",
    "Prepare a new DataFrame by:\n",
    "\n",
    "1. Create 3 Series\n",
    "    - A: A groupby grade on <b>all</b> loans and get their `.size()`\n",
    "    - B: A groupby grade on <b>`' 36 months'`  term</b> loans and get their `.size()`\n",
    "    - C: A groupby grade on <b>`' 60 months'`  term</b> loans and get their `.size()`\n",
    "\n",
    "\n",
    "2. Create a new DataFrame with these 3 series with the column names:\n",
    "    - A: Total Loans\n",
    "    - B: 36 Months\n",
    "    - C: 60 Months\n",
    "\n",
    "\n",
    "3. Create two new columns:\n",
    "    - `36 months percentage`: where it is the `36 months` / `Total Loans`\n",
    "    - `60 months percentage`: where it is the `60 months` / `Total Loans`\n",
    "\n",
    "<b>Expected Output:</b>\n",
    "\n",
    "<img src=\"https://i.imgur.com/QSR74jG.png\">\n"
   ]
  },
  {
   "cell_type": "code",
   "execution_count": null,
   "metadata": {
    "scrolled": true
   },
   "outputs": [],
   "source": []
  },
  {
   "cell_type": "markdown",
   "metadata": {},
   "source": [
    "### Section 2 & 3 - Visualise and Save Figure\n",
    "\n",
    "From the DataFrame above, isolate to just the `'36 months percentage'` and `'60 months percentage'` columns (i.e create new DataFrame with just these 2 columns). Plot a `stacked` bar chart as expected in the output. Save the visualisation as `proportion_of_loan_terms_by_grade.png`\n",
    "\n",
    "<b>Expected Output:</b>\n",
    "\n",
    "<img src=\"https://i.imgur.com/ZWMZa65.png\" width=500>"
   ]
  },
  {
   "cell_type": "code",
   "execution_count": null,
   "metadata": {},
   "outputs": [],
   "source": [
    "# -------------- #\n",
    "### SECTION 2 ###\n",
    "## VISUALISE ## \n",
    "# -------------- #\n",
    "\n",
    "\n",
    "# -------------- #\n",
    "### SECTION 3 ###\n",
    "## SAVE FIGURE ## \n",
    "# -------------- #\n"
   ]
  },
  {
   "cell_type": "code",
   "execution_count": null,
   "metadata": {},
   "outputs": [],
   "source": [
    "## TA/INSTRUCTOR ONLY\n",
    "## SECTION 1: /1\n",
    "## SECTION 2: /1\n",
    "## SECTION 3: /1"
   ]
  },
  {
   "cell_type": "markdown",
   "metadata": {},
   "source": [
    "### Question 8 - Correlation Matrix on Numeric Variables\n",
    "\n",
    "You would like to investigate if there are variables/columns that could be highly correlated with one another as this would aid in preparation for the machine learning step later in the project. You decide to plot a correlation matrix only on the numeric variables."
   ]
  },
  {
   "cell_type": "markdown",
   "metadata": {},
   "source": [
    "### Section 1 - Prepare Data\n",
    "\n",
    "Filter only for only numeric columns then apply the `.corr()` method on the dataframe. Store this new DataFrame as `loans_numeric_df_corr`. \n",
    "\n",
    "<b>Expected Output:</b>\n",
    "\n",
    "<img src=\"https://i.imgur.com/pxirI21.png\">"
   ]
  },
  {
   "cell_type": "code",
   "execution_count": null,
   "metadata": {
    "scrolled": false
   },
   "outputs": [],
   "source": [
    "# -------------- #\n",
    "### SECTION 1 ###\n",
    "## PREPARE DATA ##\n",
    "# -------------- #\n",
    "\n",
    "\n",
    "\n"
   ]
  },
  {
   "cell_type": "markdown",
   "metadata": {},
   "source": [
    "### Section 2 - Visualise\n",
    "\n",
    "This is different from visualising with `matplotlib`.\n",
    "\n",
    "The correlation matrix in the expected output is a <b>DataFrame</b> with color formatting. As such, to visualise the matrix, you would have to display it either by, putting the variable on the last line of the cell or using the `display()` function. \n",
    "\n",
    "<b>Expected Output:</b>\n",
    "<img src=\"https://i.imgur.com/NsLHKSw.png\" width=800>"
   ]
  },
  {
   "cell_type": "code",
   "execution_count": null,
   "metadata": {
    "scrolled": false
   },
   "outputs": [],
   "source": [
    "# -------------- #\n",
    "### SECTION 2 ###\n",
    "## VISUALISE ## \n",
    "# -------------- #\n"
   ]
  },
  {
   "cell_type": "markdown",
   "metadata": {},
   "source": [
    "### Section 3 - Save Figure\n",
    "\n",
    "Since the above correlation matrix is a DataFrame, to save the styling and formatting of the DataFrame, we can save it as an excel by using `.to_excel()` with the file name `corr_matrix.xlsx`."
   ]
  },
  {
   "cell_type": "code",
   "execution_count": null,
   "metadata": {},
   "outputs": [],
   "source": [
    "# -------------- #\n",
    "### SECTION 3 ###\n",
    "## SAVE FIGURE ## \n",
    "# -------------- #\n"
   ]
  },
  {
   "cell_type": "code",
   "execution_count": null,
   "metadata": {},
   "outputs": [],
   "source": [
    "## TA/INSTRUCTOR ONLY\n",
    "## SECTION 1: /1\n",
    "## SECTION 2: /1\n",
    "## SECTION 3: /1"
   ]
  },
  {
   "cell_type": "markdown",
   "metadata": {},
   "source": [
    "<div class=\"alert alert-block alert-info\">\n",
    "For the next two questions, you will be using the <b>Seaborn</b> library to plot your graphs, so please import the library. Seaborn works in a similar way to pandas too.\n",
    "</div>\n",
    "\n",
    "```python\n",
    "import seaborn as sns\n",
    "```\n",
    "The specific methods are `sns.distplot()` and `sns.countplot()`.  \n",
    "\n",
    "Here are the documentation links for the two methods:\n",
    "- `sns.distplot()`  - https://seaborn.pydata.org/generated/seaborn.distplot.html\n",
    "- `sns.countplot()` - https://seaborn.pydata.org/generated/seaborn.countplot.html"
   ]
  },
  {
   "cell_type": "markdown",
   "metadata": {},
   "source": [
    "### Question 9 - Non-Default vs. Default Loan Distribution\n",
    "\n",
    "You would like to compare difference in loan amounts and interest rates for default and non default loans. "
   ]
  },
  {
   "cell_type": "markdown",
   "metadata": {},
   "source": [
    "### Section 1 - Prepare Data\n",
    "\n",
    "Create two dataframes:\n",
    "\n",
    "1. `non_default_df` where `target` is `Non Default`\n",
    "2. `default_df` where `target` is `Default`"
   ]
  },
  {
   "cell_type": "code",
   "execution_count": null,
   "metadata": {
    "scrolled": true
   },
   "outputs": [],
   "source": []
  },
  {
   "cell_type": "markdown",
   "metadata": {},
   "source": [
    "### Section 2 & 3 - Visualise and Save Figure\n",
    "\n",
    "Create subplots of 2 rows and 2 columns, creating 4 different axes and plotting them one by one.\n",
    "\n",
    "<b>Expected Output:</b>\n",
    "\n",
    "<img src=\"https://i.imgur.com/kmlZpPY.png\" width=800>"
   ]
  },
  {
   "cell_type": "code",
   "execution_count": null,
   "metadata": {
    "scrolled": false
   },
   "outputs": [],
   "source": [
    "# -------------- #\n",
    "### SECTION 2 ###\n",
    "## VISUALISE ## \n",
    "# -------------- #\n",
    "\n",
    "\n",
    "\n",
    "# -------------- #\n",
    "### SECTION 3 ###\n",
    "## SAVE FIGURE ## \n",
    "# -------------- #\n"
   ]
  },
  {
   "cell_type": "code",
   "execution_count": null,
   "metadata": {},
   "outputs": [],
   "source": [
    "## TA/INSTRUCTOR ONLY\n",
    "## SECTION 1: /1\n",
    "## SECTION 2: /1\n",
    "## SECTION 3: /1"
   ]
  },
  {
   "cell_type": "markdown",
   "metadata": {},
   "source": [
    "### Question 10 - Grade by Grade Distribution\n",
    "\n",
    "<i><b>This question is challenging.</b> There may be other ways to solve this question; the following sections are just one way of solving it.</i>\n",
    "\n",
    "You are interested in comparing each grade side by side, looking specifically at the loan amount and interest rate involved in each loan. "
   ]
  },
  {
   "cell_type": "markdown",
   "metadata": {},
   "source": [
    "### Section 1 - Prepare Data\n",
    "\n",
    "Create a <b>list of DataFrames</b> where each DataFrame is a grade (`A`, `B` ... `G`) and has only 2 columns, `loan_amnt` and `int_round`.\n",
    "\n",
    "<b>Expected output: </b>\n",
    "\n",
    "    [        loan_amnt  int_round\n",
    "     11           4000          6\n",
    "     16          35000          7\n",
    "     25           7200          6\n",
    "     27          25000          7\n",
    "     28          24000          5\n",
    "     ...           ...        ...\n",
    "     199982       9000          7\n",
    "     199984      25000          6\n",
    "     199988      15000          6\n",
    "     199989      29025          6\n",
    "     199996      30000          7\n",
    "\n",
    "     [38162 rows x 2 columns],         loan_amnt  int_round\n",
    "     1            8000         10\n",
    "     5           20000         11\n",
    "     6           12000          8\n",
    "     8           20000          9\n",
    "     12          15350         14\n",
    "     ...           ...        ...\n",
    "     199971      13000         11\n",
    "     199978      14000          8\n",
    "     199985      12000         11\n",
    "     199991      15000         11\n",
    "     199998      10000          8\n",
    "     ....\n",
    "     ]"
   ]
  },
  {
   "cell_type": "code",
   "execution_count": null,
   "metadata": {
    "scrolled": true
   },
   "outputs": [],
   "source": []
  },
  {
   "cell_type": "markdown",
   "metadata": {},
   "source": [
    "### Section 2 & 3 - Visualise and Save Figure\n",
    "\n",
    "Suggested Pseudocode:\n",
    "\n",
    "1. Create two lists:\n",
    "    - 1 list for colors to format each row of chart with one color\n",
    "    - 1 list of strings with grades A to G, to format the titles accordingly\n",
    "    \n",
    "\n",
    "2. Create subplots with 7 rows (A to G for each row) and 2 columns (Loan Amount and Interest Rate columns), by using `plt.subplots()`.\n",
    "3. From the above code, get the Axes, which gives a 2-D list of lists, where each list is a row (which is also a list). Each row contains multiple Axes, in this case its 2 axes. For example:\n",
    "\n",
    "    [ \n",
    "        [Ax1, Ax2] # Row 0\n",
    "        ...\n",
    "    ]\n",
    "\n",
    "\n",
    "4. Loop through each grade from the list of DataFrames above\n",
    "5. Extract out each axes and store them as variables\n",
    "6. With each axes, plot the DataFrame, with the first ax using `sns.distplot()` and second ax using `sns.countplot()`.\n",
    "7. With every iteration of the loop, change the grade and color \n",
    "\n",
    "Once you've managed to visualise this, save the figure as `grade_by_grade_distribution.png`.\n",
    "\n",
    "<b>Expected Output:</b>\n",
    "\n",
    "<img src=\"https://i.imgur.com/YHZgmb6.png\" width=800>"
   ]
  },
  {
   "cell_type": "code",
   "execution_count": null,
   "metadata": {},
   "outputs": [],
   "source": [
    "# -------------- #\n",
    "### SECTION 2 ###\n",
    "## VISUALISE ## \n",
    "# -------------- #\n",
    "\n",
    "\n",
    "\n",
    "# -------------- #\n",
    "### SECTION 3 ###\n",
    "## SAVE FIGURE ## \n",
    "# -------------- #\n",
    "\n"
   ]
  },
  {
   "cell_type": "code",
   "execution_count": null,
   "metadata": {},
   "outputs": [],
   "source": [
    "## TA/INSTRUCTOR ONLY\n",
    "## SECTION 1: /1\n",
    "## SECTION 2: /1\n",
    "## SECTION 3: /1"
   ]
  },
  {
   "cell_type": "markdown",
   "metadata": {},
   "source": [
    "### Optional - Analysis Comments (No marks but possibly insightful)\n",
    "\n",
    "Add any additional comments/insights about this problem sets and our teaching team could reply to it. "
   ]
  },
  {
   "cell_type": "code",
   "execution_count": null,
   "metadata": {},
   "outputs": [],
   "source": []
  },
  {
   "cell_type": "markdown",
   "metadata": {},
   "source": [
    "<div class=\"alert alert-success\">\n",
    "<b>Checkpoint</b>: When you have completed Part 2, upload your progress to eLearn. eLearn only accepts the latest notebooks so if you have an existing notebook, your latest upload will <b>override</b> it.\n",
    "</div>"
   ]
  }
 ],
 "metadata": {
  "kernelspec": {
   "display_name": "Python 3",
   "language": "python",
   "name": "python3"
  },
  "language_info": {
   "codemirror_mode": {
    "name": "ipython",
    "version": 3
   },
   "file_extension": ".py",
   "mimetype": "text/x-python",
   "name": "python",
   "nbconvert_exporter": "python",
   "pygments_lexer": "ipython3",
   "version": "3.7.3"
  }
 },
 "nbformat": 4,
 "nbformat_minor": 2
}
